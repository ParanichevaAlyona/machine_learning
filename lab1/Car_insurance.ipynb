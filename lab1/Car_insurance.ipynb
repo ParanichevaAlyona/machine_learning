{
 "cells": [
  {
   "cell_type": "markdown",
   "id": "8ba42618",
   "metadata": {},
   "source": [
    "# Задание\n",
    "1. Описать задачу словами\n",
    "2. Прочитать данные\n",
    "3. Визуализировать данные и вычислить основные характеристики (среднее, разброс, корреляционную матрицу и тд)\n",
    "4. Обработать пропущенные значения\n",
    "5. Провести нормализацию (или объяснить почему она не нужна)\n",
    "6. Разбить данные на обучающую и тестовую выборки\n",
    "7. Запустить классификатор ближайших соседей(попробовать разное их количество). Попробовать другие классификаторы (по желанию)\n",
    "8. Вычислить ошибки на обучающей и тестовой выборках. Сделать выводы"
   ]
  },
  {
   "cell_type": "markdown",
   "id": "d953d1bc",
   "metadata": {},
   "source": [
    "# Описание задачи\n",
    "Описание: Компания поделилась данными о годовом страховании автомобилей. Теперь нужно выяснить реальное поведение клиентов по данным.\n",
    "\n",
    "Задача: предугадать по личным данным, кто возьмет страховку, а кто нет"
   ]
  },
  {
   "cell_type": "code",
   "execution_count": 1,
   "id": "ddee10b4",
   "metadata": {},
   "outputs": [],
   "source": [
    "import numpy as np              # Массивы (матрицы, векторы, линейная алгебра)\n",
    "import matplotlib.pyplot as plt # Научная графика\n",
    "%matplotlib inline \n",
    "    # Говорим jupyter'у, чтобы весь графический вывод был в браузере, а не в отдельном окне\n",
    "import pandas as pd             # Таблицы и временные ряды (dataframe, series)\n",
    "import seaborn as sns           # Еще больше красивой графики для визуализации данных\n",
    "import sklearn                  # Алгоритмы машинного обучения"
   ]
  },
  {
   "cell_type": "markdown",
   "id": "a5bf63bf",
   "metadata": {},
   "source": [
    "# Загрузка и чтение данных"
   ]
  },
  {
   "cell_type": "code",
   "execution_count": 2,
   "id": "da2f9432",
   "metadata": {},
   "outputs": [],
   "source": [
    "url = \"https://raw.githubusercontent.com/ParanichevaAlyona/machine_learning/main/datasets/Car_Insurance_Claim.csv\"\n",
    "data_raw = pd.read_csv(url)"
   ]
  },
  {
   "cell_type": "code",
   "execution_count": 3,
   "id": "1f3465de",
   "metadata": {},
   "outputs": [
    {
     "data": {
      "text/plain": [
       "(10000, 19)"
      ]
     },
     "execution_count": 3,
     "metadata": {},
     "output_type": "execute_result"
    }
   ],
   "source": [
    "data_raw.shape"
   ]
  },
  {
   "cell_type": "markdown",
   "id": "182aaba2",
   "metadata": {},
   "source": [
    "Таблица содержит личную информацию о 10000 клиентах, разделенную на 19 категорий"
   ]
  },
  {
   "cell_type": "code",
   "execution_count": 4,
   "id": "19a4d026",
   "metadata": {
    "scrolled": true
   },
   "outputs": [
    {
     "data": {
      "text/html": [
       "<div>\n",
       "<style scoped>\n",
       "    .dataframe tbody tr th:only-of-type {\n",
       "        vertical-align: middle;\n",
       "    }\n",
       "\n",
       "    .dataframe tbody tr th {\n",
       "        vertical-align: top;\n",
       "    }\n",
       "\n",
       "    .dataframe thead th {\n",
       "        text-align: right;\n",
       "    }\n",
       "</style>\n",
       "<table border=\"1\" class=\"dataframe\">\n",
       "  <thead>\n",
       "    <tr style=\"text-align: right;\">\n",
       "      <th></th>\n",
       "      <th>ID</th>\n",
       "      <th>AGE</th>\n",
       "      <th>GENDER</th>\n",
       "      <th>RACE</th>\n",
       "      <th>DRIVING_EXPERIENCE</th>\n",
       "      <th>EDUCATION</th>\n",
       "      <th>INCOME</th>\n",
       "      <th>CREDIT_SCORE</th>\n",
       "      <th>VEHICLE_OWNERSHIP</th>\n",
       "      <th>VEHICLE_YEAR</th>\n",
       "      <th>MARRIED</th>\n",
       "      <th>CHILDREN</th>\n",
       "      <th>POSTAL_CODE</th>\n",
       "      <th>ANNUAL_MILEAGE</th>\n",
       "      <th>VEHICLE_TYPE</th>\n",
       "      <th>SPEEDING_VIOLATIONS</th>\n",
       "      <th>DUIS</th>\n",
       "      <th>PAST_ACCIDENTS</th>\n",
       "      <th>OUTCOME</th>\n",
       "    </tr>\n",
       "  </thead>\n",
       "  <tbody>\n",
       "    <tr>\n",
       "      <th>0</th>\n",
       "      <td>569520</td>\n",
       "      <td>65+</td>\n",
       "      <td>female</td>\n",
       "      <td>majority</td>\n",
       "      <td>0-9y</td>\n",
       "      <td>high school</td>\n",
       "      <td>upper class</td>\n",
       "      <td>0.629027</td>\n",
       "      <td>1.0</td>\n",
       "      <td>after 2015</td>\n",
       "      <td>0.0</td>\n",
       "      <td>1.0</td>\n",
       "      <td>10238</td>\n",
       "      <td>12000.0</td>\n",
       "      <td>sedan</td>\n",
       "      <td>0</td>\n",
       "      <td>0</td>\n",
       "      <td>0</td>\n",
       "      <td>0.0</td>\n",
       "    </tr>\n",
       "    <tr>\n",
       "      <th>1</th>\n",
       "      <td>750365</td>\n",
       "      <td>16-25</td>\n",
       "      <td>male</td>\n",
       "      <td>majority</td>\n",
       "      <td>0-9y</td>\n",
       "      <td>none</td>\n",
       "      <td>poverty</td>\n",
       "      <td>0.357757</td>\n",
       "      <td>0.0</td>\n",
       "      <td>before 2015</td>\n",
       "      <td>0.0</td>\n",
       "      <td>0.0</td>\n",
       "      <td>10238</td>\n",
       "      <td>16000.0</td>\n",
       "      <td>sedan</td>\n",
       "      <td>0</td>\n",
       "      <td>0</td>\n",
       "      <td>0</td>\n",
       "      <td>1.0</td>\n",
       "    </tr>\n",
       "    <tr>\n",
       "      <th>2</th>\n",
       "      <td>199901</td>\n",
       "      <td>16-25</td>\n",
       "      <td>female</td>\n",
       "      <td>majority</td>\n",
       "      <td>0-9y</td>\n",
       "      <td>high school</td>\n",
       "      <td>working class</td>\n",
       "      <td>0.493146</td>\n",
       "      <td>1.0</td>\n",
       "      <td>before 2015</td>\n",
       "      <td>0.0</td>\n",
       "      <td>0.0</td>\n",
       "      <td>10238</td>\n",
       "      <td>11000.0</td>\n",
       "      <td>sedan</td>\n",
       "      <td>0</td>\n",
       "      <td>0</td>\n",
       "      <td>0</td>\n",
       "      <td>0.0</td>\n",
       "    </tr>\n",
       "    <tr>\n",
       "      <th>3</th>\n",
       "      <td>478866</td>\n",
       "      <td>16-25</td>\n",
       "      <td>male</td>\n",
       "      <td>majority</td>\n",
       "      <td>0-9y</td>\n",
       "      <td>university</td>\n",
       "      <td>working class</td>\n",
       "      <td>0.206013</td>\n",
       "      <td>1.0</td>\n",
       "      <td>before 2015</td>\n",
       "      <td>0.0</td>\n",
       "      <td>1.0</td>\n",
       "      <td>32765</td>\n",
       "      <td>11000.0</td>\n",
       "      <td>sedan</td>\n",
       "      <td>0</td>\n",
       "      <td>0</td>\n",
       "      <td>0</td>\n",
       "      <td>0.0</td>\n",
       "    </tr>\n",
       "    <tr>\n",
       "      <th>4</th>\n",
       "      <td>731664</td>\n",
       "      <td>26-39</td>\n",
       "      <td>male</td>\n",
       "      <td>majority</td>\n",
       "      <td>10-19y</td>\n",
       "      <td>none</td>\n",
       "      <td>working class</td>\n",
       "      <td>0.388366</td>\n",
       "      <td>1.0</td>\n",
       "      <td>before 2015</td>\n",
       "      <td>0.0</td>\n",
       "      <td>0.0</td>\n",
       "      <td>32765</td>\n",
       "      <td>12000.0</td>\n",
       "      <td>sedan</td>\n",
       "      <td>2</td>\n",
       "      <td>0</td>\n",
       "      <td>1</td>\n",
       "      <td>1.0</td>\n",
       "    </tr>\n",
       "  </tbody>\n",
       "</table>\n",
       "</div>"
      ],
      "text/plain": [
       "       ID    AGE  GENDER      RACE DRIVING_EXPERIENCE    EDUCATION  \\\n",
       "0  569520    65+  female  majority               0-9y  high school   \n",
       "1  750365  16-25    male  majority               0-9y         none   \n",
       "2  199901  16-25  female  majority               0-9y  high school   \n",
       "3  478866  16-25    male  majority               0-9y   university   \n",
       "4  731664  26-39    male  majority             10-19y         none   \n",
       "\n",
       "          INCOME  CREDIT_SCORE  VEHICLE_OWNERSHIP VEHICLE_YEAR  MARRIED  \\\n",
       "0    upper class      0.629027                1.0   after 2015      0.0   \n",
       "1        poverty      0.357757                0.0  before 2015      0.0   \n",
       "2  working class      0.493146                1.0  before 2015      0.0   \n",
       "3  working class      0.206013                1.0  before 2015      0.0   \n",
       "4  working class      0.388366                1.0  before 2015      0.0   \n",
       "\n",
       "   CHILDREN  POSTAL_CODE  ANNUAL_MILEAGE VEHICLE_TYPE  SPEEDING_VIOLATIONS  \\\n",
       "0       1.0        10238         12000.0        sedan                    0   \n",
       "1       0.0        10238         16000.0        sedan                    0   \n",
       "2       0.0        10238         11000.0        sedan                    0   \n",
       "3       1.0        32765         11000.0        sedan                    0   \n",
       "4       0.0        32765         12000.0        sedan                    2   \n",
       "\n",
       "   DUIS  PAST_ACCIDENTS  OUTCOME  \n",
       "0     0               0      0.0  \n",
       "1     0               0      1.0  \n",
       "2     0               0      0.0  \n",
       "3     0               0      0.0  \n",
       "4     0               1      1.0  "
      ]
     },
     "execution_count": 4,
     "metadata": {},
     "output_type": "execute_result"
    }
   ],
   "source": [
    "data_raw.head()"
   ]
  },
  {
   "cell_type": "code",
   "execution_count": 5,
   "id": "d69c6350",
   "metadata": {
    "scrolled": true
   },
   "outputs": [
    {
     "data": {
      "text/html": [
       "<div>\n",
       "<style scoped>\n",
       "    .dataframe tbody tr th:only-of-type {\n",
       "        vertical-align: middle;\n",
       "    }\n",
       "\n",
       "    .dataframe tbody tr th {\n",
       "        vertical-align: top;\n",
       "    }\n",
       "\n",
       "    .dataframe thead th {\n",
       "        text-align: right;\n",
       "    }\n",
       "</style>\n",
       "<table border=\"1\" class=\"dataframe\">\n",
       "  <thead>\n",
       "    <tr style=\"text-align: right;\">\n",
       "      <th></th>\n",
       "      <th>ID</th>\n",
       "      <th>AGE</th>\n",
       "      <th>GENDER</th>\n",
       "      <th>RACE</th>\n",
       "      <th>DRIVING_EXPERIENCE</th>\n",
       "      <th>EDUCATION</th>\n",
       "      <th>INCOME</th>\n",
       "      <th>CREDIT_SCORE</th>\n",
       "      <th>VEHICLE_OWNERSHIP</th>\n",
       "      <th>VEHICLE_YEAR</th>\n",
       "      <th>MARRIED</th>\n",
       "      <th>CHILDREN</th>\n",
       "      <th>POSTAL_CODE</th>\n",
       "      <th>ANNUAL_MILEAGE</th>\n",
       "      <th>VEHICLE_TYPE</th>\n",
       "      <th>SPEEDING_VIOLATIONS</th>\n",
       "      <th>DUIS</th>\n",
       "      <th>PAST_ACCIDENTS</th>\n",
       "      <th>OUTCOME</th>\n",
       "    </tr>\n",
       "  </thead>\n",
       "  <tbody>\n",
       "    <tr>\n",
       "      <th>9995</th>\n",
       "      <td>323164</td>\n",
       "      <td>26-39</td>\n",
       "      <td>female</td>\n",
       "      <td>majority</td>\n",
       "      <td>10-19y</td>\n",
       "      <td>university</td>\n",
       "      <td>upper class</td>\n",
       "      <td>0.582787</td>\n",
       "      <td>1.0</td>\n",
       "      <td>before 2015</td>\n",
       "      <td>0.0</td>\n",
       "      <td>0.0</td>\n",
       "      <td>10238</td>\n",
       "      <td>16000.0</td>\n",
       "      <td>sedan</td>\n",
       "      <td>0</td>\n",
       "      <td>0</td>\n",
       "      <td>1</td>\n",
       "      <td>0.0</td>\n",
       "    </tr>\n",
       "    <tr>\n",
       "      <th>9996</th>\n",
       "      <td>910346</td>\n",
       "      <td>26-39</td>\n",
       "      <td>female</td>\n",
       "      <td>majority</td>\n",
       "      <td>10-19y</td>\n",
       "      <td>none</td>\n",
       "      <td>middle class</td>\n",
       "      <td>0.522231</td>\n",
       "      <td>1.0</td>\n",
       "      <td>after 2015</td>\n",
       "      <td>0.0</td>\n",
       "      <td>1.0</td>\n",
       "      <td>32765</td>\n",
       "      <td>NaN</td>\n",
       "      <td>sedan</td>\n",
       "      <td>1</td>\n",
       "      <td>0</td>\n",
       "      <td>0</td>\n",
       "      <td>0.0</td>\n",
       "    </tr>\n",
       "    <tr>\n",
       "      <th>9997</th>\n",
       "      <td>468409</td>\n",
       "      <td>26-39</td>\n",
       "      <td>male</td>\n",
       "      <td>majority</td>\n",
       "      <td>0-9y</td>\n",
       "      <td>high school</td>\n",
       "      <td>middle class</td>\n",
       "      <td>0.470940</td>\n",
       "      <td>1.0</td>\n",
       "      <td>before 2015</td>\n",
       "      <td>0.0</td>\n",
       "      <td>1.0</td>\n",
       "      <td>10238</td>\n",
       "      <td>14000.0</td>\n",
       "      <td>sedan</td>\n",
       "      <td>0</td>\n",
       "      <td>0</td>\n",
       "      <td>0</td>\n",
       "      <td>0.0</td>\n",
       "    </tr>\n",
       "    <tr>\n",
       "      <th>9998</th>\n",
       "      <td>903459</td>\n",
       "      <td>26-39</td>\n",
       "      <td>female</td>\n",
       "      <td>majority</td>\n",
       "      <td>10-19y</td>\n",
       "      <td>high school</td>\n",
       "      <td>poverty</td>\n",
       "      <td>0.364185</td>\n",
       "      <td>0.0</td>\n",
       "      <td>before 2015</td>\n",
       "      <td>0.0</td>\n",
       "      <td>1.0</td>\n",
       "      <td>10238</td>\n",
       "      <td>13000.0</td>\n",
       "      <td>sedan</td>\n",
       "      <td>2</td>\n",
       "      <td>0</td>\n",
       "      <td>1</td>\n",
       "      <td>1.0</td>\n",
       "    </tr>\n",
       "    <tr>\n",
       "      <th>9999</th>\n",
       "      <td>442696</td>\n",
       "      <td>26-39</td>\n",
       "      <td>female</td>\n",
       "      <td>majority</td>\n",
       "      <td>0-9y</td>\n",
       "      <td>none</td>\n",
       "      <td>working class</td>\n",
       "      <td>0.435225</td>\n",
       "      <td>1.0</td>\n",
       "      <td>before 2015</td>\n",
       "      <td>1.0</td>\n",
       "      <td>1.0</td>\n",
       "      <td>10238</td>\n",
       "      <td>13000.0</td>\n",
       "      <td>sedan</td>\n",
       "      <td>0</td>\n",
       "      <td>0</td>\n",
       "      <td>0</td>\n",
       "      <td>0.0</td>\n",
       "    </tr>\n",
       "  </tbody>\n",
       "</table>\n",
       "</div>"
      ],
      "text/plain": [
       "          ID    AGE  GENDER      RACE DRIVING_EXPERIENCE    EDUCATION  \\\n",
       "9995  323164  26-39  female  majority             10-19y   university   \n",
       "9996  910346  26-39  female  majority             10-19y         none   \n",
       "9997  468409  26-39    male  majority               0-9y  high school   \n",
       "9998  903459  26-39  female  majority             10-19y  high school   \n",
       "9999  442696  26-39  female  majority               0-9y         none   \n",
       "\n",
       "             INCOME  CREDIT_SCORE  VEHICLE_OWNERSHIP VEHICLE_YEAR  MARRIED  \\\n",
       "9995    upper class      0.582787                1.0  before 2015      0.0   \n",
       "9996   middle class      0.522231                1.0   after 2015      0.0   \n",
       "9997   middle class      0.470940                1.0  before 2015      0.0   \n",
       "9998        poverty      0.364185                0.0  before 2015      0.0   \n",
       "9999  working class      0.435225                1.0  before 2015      1.0   \n",
       "\n",
       "      CHILDREN  POSTAL_CODE  ANNUAL_MILEAGE VEHICLE_TYPE  SPEEDING_VIOLATIONS  \\\n",
       "9995       0.0        10238         16000.0        sedan                    0   \n",
       "9996       1.0        32765             NaN        sedan                    1   \n",
       "9997       1.0        10238         14000.0        sedan                    0   \n",
       "9998       1.0        10238         13000.0        sedan                    2   \n",
       "9999       1.0        10238         13000.0        sedan                    0   \n",
       "\n",
       "      DUIS  PAST_ACCIDENTS  OUTCOME  \n",
       "9995     0               1      0.0  \n",
       "9996     0               0      0.0  \n",
       "9997     0               0      0.0  \n",
       "9998     0               1      1.0  \n",
       "9999     0               0      0.0  "
      ]
     },
     "execution_count": 5,
     "metadata": {},
     "output_type": "execute_result"
    }
   ],
   "source": [
    "data_raw.tail()"
   ]
  },
  {
   "cell_type": "markdown",
   "id": "a463455d",
   "metadata": {},
   "source": [
    "Каждый пассажир охарактеризован 18 признаками (номер клиента не является признаком). Среди них есть категориальные (пол, раса, опыт вождения, образование, социальное положение, год покупки автомобиля, тип автомобиля), числовые (возраст, кредитный рейтинг, количество своих автомобилей, семейное положение, количество детей, почтовый индекс, годовой пробег, превышения скорости,вождение в нетрезвом виде, количество аварий) и последний столбец содержит информацию взял ли человек страховку\n",
    "\n",
    "Рассмотрим все категории:"
   ]
  },
  {
   "cell_type": "code",
   "execution_count": 6,
   "id": "b2d26bbf",
   "metadata": {},
   "outputs": [
    {
     "name": "stdout",
     "output_type": "stream",
     "text": [
      "<class 'pandas.core.frame.DataFrame'>\n",
      "RangeIndex: 10000 entries, 0 to 9999\n",
      "Data columns (total 19 columns):\n",
      " #   Column               Non-Null Count  Dtype  \n",
      "---  ------               --------------  -----  \n",
      " 0   ID                   10000 non-null  int64  \n",
      " 1   AGE                  10000 non-null  object \n",
      " 2   GENDER               10000 non-null  object \n",
      " 3   RACE                 10000 non-null  object \n",
      " 4   DRIVING_EXPERIENCE   10000 non-null  object \n",
      " 5   EDUCATION            10000 non-null  object \n",
      " 6   INCOME               10000 non-null  object \n",
      " 7   CREDIT_SCORE         9018 non-null   float64\n",
      " 8   VEHICLE_OWNERSHIP    10000 non-null  float64\n",
      " 9   VEHICLE_YEAR         10000 non-null  object \n",
      " 10  MARRIED              10000 non-null  float64\n",
      " 11  CHILDREN             10000 non-null  float64\n",
      " 12  POSTAL_CODE          10000 non-null  int64  \n",
      " 13  ANNUAL_MILEAGE       9043 non-null   float64\n",
      " 14  VEHICLE_TYPE         10000 non-null  object \n",
      " 15  SPEEDING_VIOLATIONS  10000 non-null  int64  \n",
      " 16  DUIS                 10000 non-null  int64  \n",
      " 17  PAST_ACCIDENTS       10000 non-null  int64  \n",
      " 18  OUTCOME              10000 non-null  float64\n",
      "dtypes: float64(6), int64(5), object(8)\n",
      "memory usage: 1.4+ MB\n"
     ]
    }
   ],
   "source": [
    "data_raw.info()"
   ]
  },
  {
   "cell_type": "markdown",
   "id": "062968f7",
   "metadata": {},
   "source": [
    " 0   ID - порядковый номер клиента (числовой)  \n",
    " 1   AGE - возраст клиента (категориальный)  \n",
    " 2   GENDER - пол клиента (категориальный)  \n",
    " 3   RACE - раса клиента (категориальный)  \n",
    " 4   DRIVING_EXPERIENCE - опыт вождения (категориальный)  \n",
    " 5   EDUCATION - образование (категориальный)  \n",
    " 6   INCOME - социальный статус (категориальный)  \n",
    " 7   CREDIT_SCORE - кредитный рейтинг (числовой)  \n",
    " 8   VEHICLE_OWNERSHIP - количество автомобилей (числовой)  \n",
    " 9   VEHICLE_YEAR - год приобретения автомобиля (категориальный)  \n",
    " 10  MARRIED - семейное положение (числовой)  \n",
    " 11  CHILDREN - количество детей (числовой)  \n",
    " 12  POSTAL_CODE - почтовый индекс (числовой)  \n",
    " 13  ANNUAL_MILEAGE - годовой пробег (числовой)  \n",
    " 14  VEHICLE_TYPE - тип автомобиля (категориальный)  \n",
    " 15  SPEEDING_VIOLATIONS - превышение скорости (числовой)  \n",
    " 16  DUIS - вождение в нетрезвом виде (числовой)  \n",
    " 17  PAST_ACCIDENTS - аварии (числовой)  \n",
    " 18  OUTCOME - взятие ссуды (числовой)  "
   ]
  },
  {
   "cell_type": "markdown",
   "id": "2d4eb0ca",
   "metadata": {},
   "source": [
    "### Заменим тип Object категориальных признаков на специальный тип, который предназначен для хранения как раз таких категориальных значений:"
   ]
  },
  {
   "cell_type": "code",
   "execution_count": 7,
   "id": "ab5ae663",
   "metadata": {},
   "outputs": [],
   "source": [
    "# сделаем копию данных, для случая, если нам понадобится исходник\n",
    "data = data_raw.copy()\n",
    "# теперь творим все наши изменения\n",
    "data_raw['AGE'] = data_raw['AGE'].astype('category')\n",
    "data_raw['GENDER'] = data_raw['GENDER'].astype('category')\n",
    "data_raw['RACE'] = data_raw['RACE'].astype('category')\n",
    "data_raw['DRIVING_EXPERIENCE'] = data_raw['DRIVING_EXPERIENCE'].astype('category')\n",
    "data_raw['EDUCATION'] = data_raw['EDUCATION'].astype('category')\n",
    "data_raw['INCOME'] = data_raw['INCOME'].astype('category')\n",
    "data_raw['VEHICLE_YEAR'] = data_raw['VEHICLE_YEAR'].astype('category')\n",
    "data_raw['VEHICLE_TYPE'] = data_raw['VEHICLE_TYPE'].astype('category')"
   ]
  },
  {
   "cell_type": "code",
   "execution_count": 8,
   "id": "625ce3ee",
   "metadata": {},
   "outputs": [
    {
     "name": "stdout",
     "output_type": "stream",
     "text": [
      "<class 'pandas.core.frame.DataFrame'>\n",
      "RangeIndex: 10000 entries, 0 to 9999\n",
      "Data columns (total 19 columns):\n",
      " #   Column               Non-Null Count  Dtype   \n",
      "---  ------               --------------  -----   \n",
      " 0   ID                   10000 non-null  int64   \n",
      " 1   AGE                  10000 non-null  category\n",
      " 2   GENDER               10000 non-null  category\n",
      " 3   RACE                 10000 non-null  category\n",
      " 4   DRIVING_EXPERIENCE   10000 non-null  category\n",
      " 5   EDUCATION            10000 non-null  category\n",
      " 6   INCOME               10000 non-null  category\n",
      " 7   CREDIT_SCORE         9018 non-null   float64 \n",
      " 8   VEHICLE_OWNERSHIP    10000 non-null  float64 \n",
      " 9   VEHICLE_YEAR         10000 non-null  category\n",
      " 10  MARRIED              10000 non-null  float64 \n",
      " 11  CHILDREN             10000 non-null  float64 \n",
      " 12  POSTAL_CODE          10000 non-null  int64   \n",
      " 13  ANNUAL_MILEAGE       9043 non-null   float64 \n",
      " 14  VEHICLE_TYPE         10000 non-null  category\n",
      " 15  SPEEDING_VIOLATIONS  10000 non-null  int64   \n",
      " 16  DUIS                 10000 non-null  int64   \n",
      " 17  PAST_ACCIDENTS       10000 non-null  int64   \n",
      " 18  OUTCOME              10000 non-null  float64 \n",
      "dtypes: category(8), float64(6), int64(5)\n",
      "memory usage: 938.8 KB\n"
     ]
    }
   ],
   "source": [
    "data_raw.info()"
   ]
  },
  {
   "cell_type": "markdown",
   "id": "11dcae76",
   "metadata": {},
   "source": [
    "Проверим тип категориальных признаков, а также увидим, какие значения они могут принимать"
   ]
  },
  {
   "cell_type": "code",
   "execution_count": 9,
   "id": "3b7000df",
   "metadata": {},
   "outputs": [
    {
     "data": {
      "text/plain": [
       "CategoricalDtype(categories=['16-25', '26-39', '40-64', '65+'], ordered=False)"
      ]
     },
     "execution_count": 9,
     "metadata": {},
     "output_type": "execute_result"
    }
   ],
   "source": [
    "data_raw['AGE'].dtype"
   ]
  },
  {
   "cell_type": "code",
   "execution_count": 10,
   "id": "62bcee28",
   "metadata": {},
   "outputs": [
    {
     "data": {
      "text/plain": [
       "CategoricalDtype(categories=['female', 'male'], ordered=False)"
      ]
     },
     "execution_count": 10,
     "metadata": {},
     "output_type": "execute_result"
    }
   ],
   "source": [
    "data_raw['GENDER'].dtype"
   ]
  },
  {
   "cell_type": "code",
   "execution_count": 11,
   "id": "6a13a900",
   "metadata": {},
   "outputs": [
    {
     "data": {
      "text/plain": [
       "CategoricalDtype(categories=['majority', 'minority'], ordered=False)"
      ]
     },
     "execution_count": 11,
     "metadata": {},
     "output_type": "execute_result"
    }
   ],
   "source": [
    "data_raw['RACE'].dtype"
   ]
  },
  {
   "cell_type": "code",
   "execution_count": 12,
   "id": "16d9109b",
   "metadata": {},
   "outputs": [
    {
     "data": {
      "text/plain": [
       "CategoricalDtype(categories=['0-9y', '10-19y', '20-29y', '30y+'], ordered=False)"
      ]
     },
     "execution_count": 12,
     "metadata": {},
     "output_type": "execute_result"
    }
   ],
   "source": [
    "data_raw['DRIVING_EXPERIENCE'].dtype"
   ]
  },
  {
   "cell_type": "code",
   "execution_count": 13,
   "id": "484739db",
   "metadata": {},
   "outputs": [
    {
     "data": {
      "text/plain": [
       "CategoricalDtype(categories=['high school', 'none', 'university'], ordered=False)"
      ]
     },
     "execution_count": 13,
     "metadata": {},
     "output_type": "execute_result"
    }
   ],
   "source": [
    "data_raw['EDUCATION'].dtype"
   ]
  },
  {
   "cell_type": "code",
   "execution_count": 14,
   "id": "d978bcde",
   "metadata": {},
   "outputs": [
    {
     "data": {
      "text/plain": [
       "CategoricalDtype(categories=['middle class', 'poverty', 'upper class', 'working class'], ordered=False)"
      ]
     },
     "execution_count": 14,
     "metadata": {},
     "output_type": "execute_result"
    }
   ],
   "source": [
    "data_raw['INCOME'].dtype"
   ]
  },
  {
   "cell_type": "code",
   "execution_count": 15,
   "id": "55e3d2b0",
   "metadata": {},
   "outputs": [
    {
     "data": {
      "text/plain": [
       "CategoricalDtype(categories=['after 2015', 'before 2015'], ordered=False)"
      ]
     },
     "execution_count": 15,
     "metadata": {},
     "output_type": "execute_result"
    }
   ],
   "source": [
    "data_raw['VEHICLE_YEAR'].dtype"
   ]
  },
  {
   "cell_type": "code",
   "execution_count": 16,
   "id": "6edf8de9",
   "metadata": {},
   "outputs": [
    {
     "data": {
      "text/plain": [
       "CategoricalDtype(categories=['sedan', 'sports car'], ordered=False)"
      ]
     },
     "execution_count": 16,
     "metadata": {},
     "output_type": "execute_result"
    }
   ],
   "source": [
    "data_raw['VEHICLE_TYPE'].dtype"
   ]
  },
  {
   "cell_type": "markdown",
   "id": "d839bf36",
   "metadata": {},
   "source": [
    "Каких-то неожиданных значений нет, а это значит, что в категориальных признаках выбросов нет"
   ]
  },
  {
   "cell_type": "markdown",
   "id": "5f30801b",
   "metadata": {},
   "source": [
    "### Теперь проверим числовые признаки на наличие выбросов"
   ]
  },
  {
   "cell_type": "code",
   "execution_count": 17,
   "id": "b53b675b",
   "metadata": {},
   "outputs": [
    {
     "data": {
      "text/plain": [
       "0.617333    1\n",
       "0.447405    1\n",
       "0.788566    1\n",
       "0.548152    1\n",
       "0.608538    1\n",
       "           ..\n",
       "0.501158    1\n",
       "0.665393    1\n",
       "0.499761    1\n",
       "0.553830    1\n",
       "0.270302    1\n",
       "Name: CREDIT_SCORE, Length: 9018, dtype: int64"
      ]
     },
     "execution_count": 17,
     "metadata": {},
     "output_type": "execute_result"
    }
   ],
   "source": [
    "data_raw['CREDIT_SCORE'].value_counts()"
   ]
  },
  {
   "cell_type": "markdown",
   "id": "007d186e",
   "metadata": {},
   "source": [
    "Визуализируем кредитный рейтинг с помощью графика, чтобы понять есть ли значения <0 и больше >0"
   ]
  },
  {
   "cell_type": "code",
   "execution_count": 18,
   "id": "fa4aa00f",
   "metadata": {},
   "outputs": [
    {
     "data": {
      "image/png": "[encoded data removed]",
      "text/plain": [
       "<Figure size 432x288 with 1 Axes>"
      ]
     },
     "metadata": {
      "needs_background": "light"
     },
     "output_type": "display_data"
    }
   ],
   "source": [
    "plt.scatter(data_raw['OUTCOME'], data_raw['CREDIT_SCORE'], alpha=0.4)\n",
    "pass"
   ]
  },
  {
   "cell_type": "markdown",
   "id": "230e2d06",
   "metadata": {},
   "source": [
    "Выходящих за рамки значений нет"
   ]
  },
  {
   "cell_type": "code",
   "execution_count": 19,
   "id": "f578606c",
   "metadata": {},
   "outputs": [
    {
     "data": {
      "text/plain": [
       "1.0    6970\n",
       "0.0    3030\n",
       "Name: VEHICLE_OWNERSHIP, dtype: int64"
      ]
     },
     "execution_count": 19,
     "metadata": {},
     "output_type": "execute_result"
    }
   ],
   "source": [
    "data_raw['VEHICLE_OWNERSHIP'].value_counts()"
   ]
  },
  {
   "cell_type": "code",
   "execution_count": 20,
   "id": "535bb53a",
   "metadata": {},
   "outputs": [
    {
     "data": {
      "text/plain": [
       "0.0    5018\n",
       "1.0    4982\n",
       "Name: MARRIED, dtype: int64"
      ]
     },
     "execution_count": 20,
     "metadata": {},
     "output_type": "execute_result"
    }
   ],
   "source": [
    "data_raw['MARRIED'].value_counts()"
   ]
  },
  {
   "cell_type": "code",
   "execution_count": 21,
   "id": "da0b4870",
   "metadata": {},
   "outputs": [
    {
     "data": {
      "text/plain": [
       "1.0    6888\n",
       "0.0    3112\n",
       "Name: CHILDREN, dtype: int64"
      ]
     },
     "execution_count": 21,
     "metadata": {},
     "output_type": "execute_result"
    }
   ],
   "source": [
    "data_raw['CHILDREN'].value_counts()"
   ]
  },
  {
   "cell_type": "code",
   "execution_count": 22,
   "id": "84d4faac",
   "metadata": {},
   "outputs": [
    {
     "data": {
      "text/plain": [
       "10238    6940\n",
       "32765    2456\n",
       "92101     484\n",
       "21217     120\n",
       "Name: POSTAL_CODE, dtype: int64"
      ]
     },
     "execution_count": 22,
     "metadata": {},
     "output_type": "execute_result"
    }
   ],
   "source": [
    "data_raw['POSTAL_CODE'].value_counts()"
   ]
  },
  {
   "cell_type": "code",
   "execution_count": 23,
   "id": "9b546a3e",
   "metadata": {},
   "outputs": [
    {
     "data": {
      "text/plain": [
       "11000.0    1253\n",
       "12000.0    1218\n",
       "13000.0    1137\n",
       "10000.0    1071\n",
       "14000.0     894\n",
       "9000.0      856\n",
       "15000.0     632\n",
       "8000.0      557\n",
       "16000.0     419\n",
       "7000.0      322\n",
       "17000.0     246\n",
       "6000.0      165\n",
       "18000.0     103\n",
       "5000.0       65\n",
       "19000.0      48\n",
       "4000.0       27\n",
       "20000.0      13\n",
       "3000.0       10\n",
       "21000.0       3\n",
       "22000.0       2\n",
       "2000.0        2\n",
       "Name: ANNUAL_MILEAGE, dtype: int64"
      ]
     },
     "execution_count": 23,
     "metadata": {},
     "output_type": "execute_result"
    }
   ],
   "source": [
    "data_raw['ANNUAL_MILEAGE'].value_counts()"
   ]
  },
  {
   "cell_type": "code",
   "execution_count": 24,
   "id": "060f099f",
   "metadata": {},
   "outputs": [
    {
     "data": {
      "text/plain": [
       "0     5028\n",
       "1     1544\n",
       "2     1161\n",
       "3      830\n",
       "4      530\n",
       "5      319\n",
       "6      188\n",
       "7      140\n",
       "8       75\n",
       "10      50\n",
       "9       49\n",
       "11      30\n",
       "12      20\n",
       "13      12\n",
       "15       8\n",
       "14       5\n",
       "16       4\n",
       "17       3\n",
       "19       2\n",
       "18       1\n",
       "22       1\n",
       "Name: SPEEDING_VIOLATIONS, dtype: int64"
      ]
     },
     "execution_count": 24,
     "metadata": {},
     "output_type": "execute_result"
    }
   ],
   "source": [
    "data_raw['SPEEDING_VIOLATIONS'].value_counts()"
   ]
  },
  {
   "cell_type": "code",
   "execution_count": 25,
   "id": "c23cded7",
   "metadata": {},
   "outputs": [
    {
     "data": {
      "text/plain": [
       "0    8118\n",
       "1    1470\n",
       "2     331\n",
       "3      68\n",
       "4      10\n",
       "5       2\n",
       "6       1\n",
       "Name: DUIS, dtype: int64"
      ]
     },
     "execution_count": 25,
     "metadata": {},
     "output_type": "execute_result"
    }
   ],
   "source": [
    "data_raw['DUIS'].value_counts()"
   ]
  },
  {
   "cell_type": "code",
   "execution_count": 26,
   "id": "7758611a",
   "metadata": {},
   "outputs": [
    {
     "data": {
      "text/plain": [
       "0     5584\n",
       "1     1783\n",
       "2     1104\n",
       "3      646\n",
       "4      366\n",
       "5      232\n",
       "6      144\n",
       "7       61\n",
       "8       41\n",
       "9       19\n",
       "10       9\n",
       "11       7\n",
       "12       2\n",
       "14       1\n",
       "15       1\n",
       "Name: PAST_ACCIDENTS, dtype: int64"
      ]
     },
     "execution_count": 26,
     "metadata": {},
     "output_type": "execute_result"
    }
   ],
   "source": [
    "data_raw['PAST_ACCIDENTS'].value_counts()"
   ]
  },
  {
   "cell_type": "code",
   "execution_count": 27,
   "id": "c9079d20",
   "metadata": {},
   "outputs": [
    {
     "data": {
      "text/plain": [
       "0.0    6867\n",
       "1.0    3133\n",
       "Name: OUTCOME, dtype: int64"
      ]
     },
     "execution_count": 27,
     "metadata": {},
     "output_type": "execute_result"
    }
   ],
   "source": [
    "data_raw['OUTCOME'].value_counts()"
   ]
  },
  {
   "cell_type": "markdown",
   "id": "ad83191a",
   "metadata": {},
   "source": [
    "У числовых признаков выбросов также нет"
   ]
  },
  {
   "cell_type": "markdown",
   "id": "2e9673c7",
   "metadata": {},
   "source": [
    "# Визуализация и основные характеристики\n",
    "\n",
    "Количественные признаки:"
   ]
  },
  {
   "cell_type": "code",
   "execution_count": 28,
   "id": "6c1297c4",
   "metadata": {},
   "outputs": [
    {
     "data": {
      "text/html": [
       "<div>\n",
       "<style scoped>\n",
       "    .dataframe tbody tr th:only-of-type {\n",
       "        vertical-align: middle;\n",
       "    }\n",
       "\n",
       "    .dataframe tbody tr th {\n",
       "        vertical-align: top;\n",
       "    }\n",
       "\n",
       "    .dataframe thead th {\n",
       "        text-align: right;\n",
       "    }\n",
       "</style>\n",
       "<table border=\"1\" class=\"dataframe\">\n",
       "  <thead>\n",
       "    <tr style=\"text-align: right;\">\n",
       "      <th></th>\n",
       "      <th>ID</th>\n",
       "      <th>CREDIT_SCORE</th>\n",
       "      <th>VEHICLE_OWNERSHIP</th>\n",
       "      <th>MARRIED</th>\n",
       "      <th>CHILDREN</th>\n",
       "      <th>POSTAL_CODE</th>\n",
       "      <th>ANNUAL_MILEAGE</th>\n",
       "      <th>SPEEDING_VIOLATIONS</th>\n",
       "      <th>DUIS</th>\n",
       "      <th>PAST_ACCIDENTS</th>\n",
       "      <th>OUTCOME</th>\n",
       "    </tr>\n",
       "  </thead>\n",
       "  <tbody>\n",
       "    <tr>\n",
       "      <th>count</th>\n",
       "      <td>10000.000000</td>\n",
       "      <td>9018.000000</td>\n",
       "      <td>10000.000000</td>\n",
       "      <td>10000.000000</td>\n",
       "      <td>10000.000000</td>\n",
       "      <td>10000.000000</td>\n",
       "      <td>9043.000000</td>\n",
       "      <td>10000.000000</td>\n",
       "      <td>10000.00000</td>\n",
       "      <td>10000.000000</td>\n",
       "      <td>10000.000000</td>\n",
       "    </tr>\n",
       "    <tr>\n",
       "      <th>mean</th>\n",
       "      <td>500521.906800</td>\n",
       "      <td>0.515813</td>\n",
       "      <td>0.697000</td>\n",
       "      <td>0.498200</td>\n",
       "      <td>0.688800</td>\n",
       "      <td>19864.548400</td>\n",
       "      <td>11697.003207</td>\n",
       "      <td>1.482900</td>\n",
       "      <td>0.23920</td>\n",
       "      <td>1.056300</td>\n",
       "      <td>0.313300</td>\n",
       "    </tr>\n",
       "    <tr>\n",
       "      <th>std</th>\n",
       "      <td>290030.768758</td>\n",
       "      <td>0.137688</td>\n",
       "      <td>0.459578</td>\n",
       "      <td>0.500022</td>\n",
       "      <td>0.463008</td>\n",
       "      <td>18915.613855</td>\n",
       "      <td>2818.434528</td>\n",
       "      <td>2.241966</td>\n",
       "      <td>0.55499</td>\n",
       "      <td>1.652454</td>\n",
       "      <td>0.463858</td>\n",
       "    </tr>\n",
       "    <tr>\n",
       "      <th>min</th>\n",
       "      <td>101.000000</td>\n",
       "      <td>0.053358</td>\n",
       "      <td>0.000000</td>\n",
       "      <td>0.000000</td>\n",
       "      <td>0.000000</td>\n",
       "      <td>10238.000000</td>\n",
       "      <td>2000.000000</td>\n",
       "      <td>0.000000</td>\n",
       "      <td>0.00000</td>\n",
       "      <td>0.000000</td>\n",
       "      <td>0.000000</td>\n",
       "    </tr>\n",
       "    <tr>\n",
       "      <th>25%</th>\n",
       "      <td>249638.500000</td>\n",
       "      <td>0.417191</td>\n",
       "      <td>0.000000</td>\n",
       "      <td>0.000000</td>\n",
       "      <td>0.000000</td>\n",
       "      <td>10238.000000</td>\n",
       "      <td>10000.000000</td>\n",
       "      <td>0.000000</td>\n",
       "      <td>0.00000</td>\n",
       "      <td>0.000000</td>\n",
       "      <td>0.000000</td>\n",
       "    </tr>\n",
       "    <tr>\n",
       "      <th>50%</th>\n",
       "      <td>501777.000000</td>\n",
       "      <td>0.525033</td>\n",
       "      <td>1.000000</td>\n",
       "      <td>0.000000</td>\n",
       "      <td>1.000000</td>\n",
       "      <td>10238.000000</td>\n",
       "      <td>12000.000000</td>\n",
       "      <td>0.000000</td>\n",
       "      <td>0.00000</td>\n",
       "      <td>0.000000</td>\n",
       "      <td>0.000000</td>\n",
       "    </tr>\n",
       "    <tr>\n",
       "      <th>75%</th>\n",
       "      <td>753974.500000</td>\n",
       "      <td>0.618312</td>\n",
       "      <td>1.000000</td>\n",
       "      <td>1.000000</td>\n",
       "      <td>1.000000</td>\n",
       "      <td>32765.000000</td>\n",
       "      <td>14000.000000</td>\n",
       "      <td>2.000000</td>\n",
       "      <td>0.00000</td>\n",
       "      <td>2.000000</td>\n",
       "      <td>1.000000</td>\n",
       "    </tr>\n",
       "    <tr>\n",
       "      <th>max</th>\n",
       "      <td>999976.000000</td>\n",
       "      <td>0.960819</td>\n",
       "      <td>1.000000</td>\n",
       "      <td>1.000000</td>\n",
       "      <td>1.000000</td>\n",
       "      <td>92101.000000</td>\n",
       "      <td>22000.000000</td>\n",
       "      <td>22.000000</td>\n",
       "      <td>6.00000</td>\n",
       "      <td>15.000000</td>\n",
       "      <td>1.000000</td>\n",
       "    </tr>\n",
       "  </tbody>\n",
       "</table>\n",
       "</div>"
      ],
      "text/plain": [
       "                  ID  CREDIT_SCORE  VEHICLE_OWNERSHIP       MARRIED  \\\n",
       "count   10000.000000   9018.000000       10000.000000  10000.000000   \n",
       "mean   500521.906800      0.515813           0.697000      0.498200   \n",
       "std    290030.768758      0.137688           0.459578      0.500022   \n",
       "min       101.000000      0.053358           0.000000      0.000000   \n",
       "25%    249638.500000      0.417191           0.000000      0.000000   \n",
       "50%    501777.000000      0.525033           1.000000      0.000000   \n",
       "75%    753974.500000      0.618312           1.000000      1.000000   \n",
       "max    999976.000000      0.960819           1.000000      1.000000   \n",
       "\n",
       "           CHILDREN   POSTAL_CODE  ANNUAL_MILEAGE  SPEEDING_VIOLATIONS  \\\n",
       "count  10000.000000  10000.000000     9043.000000         10000.000000   \n",
       "mean       0.688800  19864.548400    11697.003207             1.482900   \n",
       "std        0.463008  18915.613855     2818.434528             2.241966   \n",
       "min        0.000000  10238.000000     2000.000000             0.000000   \n",
       "25%        0.000000  10238.000000    10000.000000             0.000000   \n",
       "50%        1.000000  10238.000000    12000.000000             0.000000   \n",
       "75%        1.000000  32765.000000    14000.000000             2.000000   \n",
       "max        1.000000  92101.000000    22000.000000            22.000000   \n",
       "\n",
       "              DUIS  PAST_ACCIDENTS       OUTCOME  \n",
       "count  10000.00000    10000.000000  10000.000000  \n",
       "mean       0.23920        1.056300      0.313300  \n",
       "std        0.55499        1.652454      0.463858  \n",
       "min        0.00000        0.000000      0.000000  \n",
       "25%        0.00000        0.000000      0.000000  \n",
       "50%        0.00000        0.000000      0.000000  \n",
       "75%        0.00000        2.000000      1.000000  \n",
       "max        6.00000       15.000000      1.000000  "
      ]
     },
     "execution_count": 28,
     "metadata": {},
     "output_type": "execute_result"
    }
   ],
   "source": [
    "data_raw.describe()"
   ]
  },
  {
   "cell_type": "markdown",
   "id": "d485752e",
   "metadata": {},
   "source": [
    "В описании видим:\n",
    "\n",
    "count - количество значений для каждого признака. Из-за пропусков в таблице все значения различны.\n",
    "mean - среднее значение  \n",
    "std - стандартное отклонение  \n",
    "min - минимальное значение  \n",
    "25% - первый квартиль  \n",
    "50% - медиана  \n",
    "75% - третий квартиль  \n",
    "max - максимальное значение  "
   ]
  },
  {
   "cell_type": "markdown",
   "id": "05e64588",
   "metadata": {},
   "source": [
    "Категориальные признаки:"
   ]
  },
  {
   "cell_type": "code",
   "execution_count": 29,
   "id": "f5cdfd4d",
   "metadata": {},
   "outputs": [
    {
     "data": {
      "text/html": [
       "<div>\n",
       "<style scoped>\n",
       "    .dataframe tbody tr th:only-of-type {\n",
       "        vertical-align: middle;\n",
       "    }\n",
       "\n",
       "    .dataframe tbody tr th {\n",
       "        vertical-align: top;\n",
       "    }\n",
       "\n",
       "    .dataframe thead th {\n",
       "        text-align: right;\n",
       "    }\n",
       "</style>\n",
       "<table border=\"1\" class=\"dataframe\">\n",
       "  <thead>\n",
       "    <tr style=\"text-align: right;\">\n",
       "      <th></th>\n",
       "      <th>AGE</th>\n",
       "      <th>GENDER</th>\n",
       "      <th>RACE</th>\n",
       "      <th>DRIVING_EXPERIENCE</th>\n",
       "      <th>EDUCATION</th>\n",
       "      <th>INCOME</th>\n",
       "      <th>VEHICLE_YEAR</th>\n",
       "      <th>VEHICLE_TYPE</th>\n",
       "    </tr>\n",
       "  </thead>\n",
       "  <tbody>\n",
       "    <tr>\n",
       "      <th>count</th>\n",
       "      <td>10000</td>\n",
       "      <td>10000</td>\n",
       "      <td>10000</td>\n",
       "      <td>10000</td>\n",
       "      <td>10000</td>\n",
       "      <td>10000</td>\n",
       "      <td>10000</td>\n",
       "      <td>10000</td>\n",
       "    </tr>\n",
       "    <tr>\n",
       "      <th>unique</th>\n",
       "      <td>4</td>\n",
       "      <td>2</td>\n",
       "      <td>2</td>\n",
       "      <td>4</td>\n",
       "      <td>3</td>\n",
       "      <td>4</td>\n",
       "      <td>2</td>\n",
       "      <td>2</td>\n",
       "    </tr>\n",
       "    <tr>\n",
       "      <th>top</th>\n",
       "      <td>26-39</td>\n",
       "      <td>female</td>\n",
       "      <td>majority</td>\n",
       "      <td>0-9y</td>\n",
       "      <td>high school</td>\n",
       "      <td>upper class</td>\n",
       "      <td>before 2015</td>\n",
       "      <td>sedan</td>\n",
       "    </tr>\n",
       "    <tr>\n",
       "      <th>freq</th>\n",
       "      <td>3063</td>\n",
       "      <td>5010</td>\n",
       "      <td>9012</td>\n",
       "      <td>3530</td>\n",
       "      <td>4157</td>\n",
       "      <td>4336</td>\n",
       "      <td>6967</td>\n",
       "      <td>9523</td>\n",
       "    </tr>\n",
       "  </tbody>\n",
       "</table>\n",
       "</div>"
      ],
      "text/plain": [
       "          AGE  GENDER      RACE DRIVING_EXPERIENCE    EDUCATION       INCOME  \\\n",
       "count   10000   10000     10000              10000        10000        10000   \n",
       "unique      4       2         2                  4            3            4   \n",
       "top     26-39  female  majority               0-9y  high school  upper class   \n",
       "freq     3063    5010      9012               3530         4157         4336   \n",
       "\n",
       "       VEHICLE_YEAR VEHICLE_TYPE  \n",
       "count         10000        10000  \n",
       "unique            2            2  \n",
       "top     before 2015        sedan  \n",
       "freq           6967         9523  "
      ]
     },
     "execution_count": 29,
     "metadata": {},
     "output_type": "execute_result"
    }
   ],
   "source": [
    "data_raw.describe(exclude=[np.number])"
   ]
  },
  {
   "cell_type": "markdown",
   "id": "3b500251",
   "metadata": {},
   "source": [
    "Вычислим матрицу корреляции"
   ]
  },
  {
   "cell_type": "code",
   "execution_count": 30,
   "id": "a8db2d49",
   "metadata": {},
   "outputs": [
    {
     "data": {
      "text/html": [
       "<div>\n",
       "<style scoped>\n",
       "    .dataframe tbody tr th:only-of-type {\n",
       "        vertical-align: middle;\n",
       "    }\n",
       "\n",
       "    .dataframe tbody tr th {\n",
       "        vertical-align: top;\n",
       "    }\n",
       "\n",
       "    .dataframe thead th {\n",
       "        text-align: right;\n",
       "    }\n",
       "</style>\n",
       "<table border=\"1\" class=\"dataframe\">\n",
       "  <thead>\n",
       "    <tr style=\"text-align: right;\">\n",
       "      <th></th>\n",
       "      <th>ID</th>\n",
       "      <th>CREDIT_SCORE</th>\n",
       "      <th>VEHICLE_OWNERSHIP</th>\n",
       "      <th>MARRIED</th>\n",
       "      <th>CHILDREN</th>\n",
       "      <th>POSTAL_CODE</th>\n",
       "      <th>ANNUAL_MILEAGE</th>\n",
       "      <th>SPEEDING_VIOLATIONS</th>\n",
       "      <th>DUIS</th>\n",
       "      <th>PAST_ACCIDENTS</th>\n",
       "      <th>OUTCOME</th>\n",
       "    </tr>\n",
       "  </thead>\n",
       "  <tbody>\n",
       "    <tr>\n",
       "      <th>ID</th>\n",
       "      <td>1.000000</td>\n",
       "      <td>0.001704</td>\n",
       "      <td>0.009197</td>\n",
       "      <td>0.014826</td>\n",
       "      <td>0.001233</td>\n",
       "      <td>0.006038</td>\n",
       "      <td>-0.002217</td>\n",
       "      <td>0.008156</td>\n",
       "      <td>0.009268</td>\n",
       "      <td>0.001831</td>\n",
       "      <td>-0.010506</td>\n",
       "    </tr>\n",
       "    <tr>\n",
       "      <th>CREDIT_SCORE</th>\n",
       "      <td>0.001704</td>\n",
       "      <td>1.000000</td>\n",
       "      <td>0.312037</td>\n",
       "      <td>0.281238</td>\n",
       "      <td>0.220658</td>\n",
       "      <td>0.009040</td>\n",
       "      <td>-0.174453</td>\n",
       "      <td>0.204542</td>\n",
       "      <td>0.127366</td>\n",
       "      <td>0.180978</td>\n",
       "      <td>-0.325286</td>\n",
       "    </tr>\n",
       "    <tr>\n",
       "      <th>VEHICLE_OWNERSHIP</th>\n",
       "      <td>0.009197</td>\n",
       "      <td>0.312037</td>\n",
       "      <td>1.000000</td>\n",
       "      <td>0.175626</td>\n",
       "      <td>0.125990</td>\n",
       "      <td>-0.004866</td>\n",
       "      <td>-0.097433</td>\n",
       "      <td>0.133868</td>\n",
       "      <td>0.086567</td>\n",
       "      <td>0.119521</td>\n",
       "      <td>-0.378921</td>\n",
       "    </tr>\n",
       "    <tr>\n",
       "      <th>MARRIED</th>\n",
       "      <td>0.014826</td>\n",
       "      <td>0.281238</td>\n",
       "      <td>0.175626</td>\n",
       "      <td>1.000000</td>\n",
       "      <td>0.287009</td>\n",
       "      <td>0.012045</td>\n",
       "      <td>-0.462193</td>\n",
       "      <td>0.218855</td>\n",
       "      <td>0.120840</td>\n",
       "      <td>0.215269</td>\n",
       "      <td>-0.262104</td>\n",
       "    </tr>\n",
       "    <tr>\n",
       "      <th>CHILDREN</th>\n",
       "      <td>0.001233</td>\n",
       "      <td>0.220658</td>\n",
       "      <td>0.125990</td>\n",
       "      <td>0.287009</td>\n",
       "      <td>1.000000</td>\n",
       "      <td>0.020911</td>\n",
       "      <td>-0.447655</td>\n",
       "      <td>0.220415</td>\n",
       "      <td>0.115354</td>\n",
       "      <td>0.206295</td>\n",
       "      <td>-0.232835</td>\n",
       "    </tr>\n",
       "    <tr>\n",
       "      <th>POSTAL_CODE</th>\n",
       "      <td>0.006038</td>\n",
       "      <td>0.009040</td>\n",
       "      <td>-0.004866</td>\n",
       "      <td>0.012045</td>\n",
       "      <td>0.020911</td>\n",
       "      <td>1.000000</td>\n",
       "      <td>-0.133978</td>\n",
       "      <td>0.113686</td>\n",
       "      <td>0.038492</td>\n",
       "      <td>-0.116985</td>\n",
       "      <td>0.095889</td>\n",
       "    </tr>\n",
       "    <tr>\n",
       "      <th>ANNUAL_MILEAGE</th>\n",
       "      <td>-0.002217</td>\n",
       "      <td>-0.174453</td>\n",
       "      <td>-0.097433</td>\n",
       "      <td>-0.462193</td>\n",
       "      <td>-0.447655</td>\n",
       "      <td>-0.133978</td>\n",
       "      <td>1.000000</td>\n",
       "      <td>-0.323547</td>\n",
       "      <td>-0.116598</td>\n",
       "      <td>-0.195217</td>\n",
       "      <td>0.187154</td>\n",
       "    </tr>\n",
       "    <tr>\n",
       "      <th>SPEEDING_VIOLATIONS</th>\n",
       "      <td>0.008156</td>\n",
       "      <td>0.204542</td>\n",
       "      <td>0.133868</td>\n",
       "      <td>0.218855</td>\n",
       "      <td>0.220415</td>\n",
       "      <td>0.113686</td>\n",
       "      <td>-0.323547</td>\n",
       "      <td>1.000000</td>\n",
       "      <td>0.359838</td>\n",
       "      <td>0.443074</td>\n",
       "      <td>-0.291862</td>\n",
       "    </tr>\n",
       "    <tr>\n",
       "      <th>DUIS</th>\n",
       "      <td>0.009268</td>\n",
       "      <td>0.127366</td>\n",
       "      <td>0.086567</td>\n",
       "      <td>0.120840</td>\n",
       "      <td>0.115354</td>\n",
       "      <td>0.038492</td>\n",
       "      <td>-0.116598</td>\n",
       "      <td>0.359838</td>\n",
       "      <td>1.000000</td>\n",
       "      <td>0.259359</td>\n",
       "      <td>-0.189352</td>\n",
       "    </tr>\n",
       "    <tr>\n",
       "      <th>PAST_ACCIDENTS</th>\n",
       "      <td>0.001831</td>\n",
       "      <td>0.180978</td>\n",
       "      <td>0.119521</td>\n",
       "      <td>0.215269</td>\n",
       "      <td>0.206295</td>\n",
       "      <td>-0.116985</td>\n",
       "      <td>-0.195217</td>\n",
       "      <td>0.443074</td>\n",
       "      <td>0.259359</td>\n",
       "      <td>1.000000</td>\n",
       "      <td>-0.311495</td>\n",
       "    </tr>\n",
       "    <tr>\n",
       "      <th>OUTCOME</th>\n",
       "      <td>-0.010506</td>\n",
       "      <td>-0.325286</td>\n",
       "      <td>-0.378921</td>\n",
       "      <td>-0.262104</td>\n",
       "      <td>-0.232835</td>\n",
       "      <td>0.095889</td>\n",
       "      <td>0.187154</td>\n",
       "      <td>-0.291862</td>\n",
       "      <td>-0.189352</td>\n",
       "      <td>-0.311495</td>\n",
       "      <td>1.000000</td>\n",
       "    </tr>\n",
       "  </tbody>\n",
       "</table>\n",
       "</div>"
      ],
      "text/plain": [
       "                           ID  CREDIT_SCORE  VEHICLE_OWNERSHIP   MARRIED  \\\n",
       "ID                   1.000000      0.001704           0.009197  0.014826   \n",
       "CREDIT_SCORE         0.001704      1.000000           0.312037  0.281238   \n",
       "VEHICLE_OWNERSHIP    0.009197      0.312037           1.000000  0.175626   \n",
       "MARRIED              0.014826      0.281238           0.175626  1.000000   \n",
       "CHILDREN             0.001233      0.220658           0.125990  0.287009   \n",
       "POSTAL_CODE          0.006038      0.009040          -0.004866  0.012045   \n",
       "ANNUAL_MILEAGE      -0.002217     -0.174453          -0.097433 -0.462193   \n",
       "SPEEDING_VIOLATIONS  0.008156      0.204542           0.133868  0.218855   \n",
       "DUIS                 0.009268      0.127366           0.086567  0.120840   \n",
       "PAST_ACCIDENTS       0.001831      0.180978           0.119521  0.215269   \n",
       "OUTCOME             -0.010506     -0.325286          -0.378921 -0.262104   \n",
       "\n",
       "                     CHILDREN  POSTAL_CODE  ANNUAL_MILEAGE  \\\n",
       "ID                   0.001233     0.006038       -0.002217   \n",
       "CREDIT_SCORE         0.220658     0.009040       -0.174453   \n",
       "VEHICLE_OWNERSHIP    0.125990    -0.004866       -0.097433   \n",
       "MARRIED              0.287009     0.012045       -0.462193   \n",
       "CHILDREN             1.000000     0.020911       -0.447655   \n",
       "POSTAL_CODE          0.020911     1.000000       -0.133978   \n",
       "ANNUAL_MILEAGE      -0.447655    -0.133978        1.000000   \n",
       "SPEEDING_VIOLATIONS  0.220415     0.113686       -0.323547   \n",
       "DUIS                 0.115354     0.038492       -0.116598   \n",
       "PAST_ACCIDENTS       0.206295    -0.116985       -0.195217   \n",
       "OUTCOME             -0.232835     0.095889        0.187154   \n",
       "\n",
       "                     SPEEDING_VIOLATIONS      DUIS  PAST_ACCIDENTS   OUTCOME  \n",
       "ID                              0.008156  0.009268        0.001831 -0.010506  \n",
       "CREDIT_SCORE                    0.204542  0.127366        0.180978 -0.325286  \n",
       "VEHICLE_OWNERSHIP               0.133868  0.086567        0.119521 -0.378921  \n",
       "MARRIED                         0.218855  0.120840        0.215269 -0.262104  \n",
       "CHILDREN                        0.220415  0.115354        0.206295 -0.232835  \n",
       "POSTAL_CODE                     0.113686  0.038492       -0.116985  0.095889  \n",
       "ANNUAL_MILEAGE                 -0.323547 -0.116598       -0.195217  0.187154  \n",
       "SPEEDING_VIOLATIONS             1.000000  0.359838        0.443074 -0.291862  \n",
       "DUIS                            0.359838  1.000000        0.259359 -0.189352  \n",
       "PAST_ACCIDENTS                  0.443074  0.259359        1.000000 -0.311495  \n",
       "OUTCOME                        -0.291862 -0.189352       -0.311495  1.000000  "
      ]
     },
     "execution_count": 30,
     "metadata": {},
     "output_type": "execute_result"
    }
   ],
   "source": [
    "corr_matrix = data.corr()\n",
    "corr_matrix"
   ]
  },
  {
   "cell_type": "code",
   "execution_count": 31,
   "id": "220b1d93",
   "metadata": {},
   "outputs": [
    {
     "data": {
      "image/png": "[encoded data removed]",
      "text/plain": [
       "<Figure size 432x288 with 2 Axes>"
      ]
     },
     "metadata": {
      "needs_background": "light"
     },
     "output_type": "display_data"
    }
   ],
   "source": [
    "sns.heatmap(corr_matrix, square=True, cmap='coolwarm')\n",
    "pass"
   ]
  },
  {
   "cell_type": "markdown",
   "id": "e91e2be6",
   "metadata": {},
   "source": [
    "По визуализации матрицы корреляции можно легко заметить, какие признаки взаимосвязаны"
   ]
  },
  {
   "cell_type": "code",
   "execution_count": 32,
   "id": "06327e63",
   "metadata": {},
   "outputs": [
    {
     "data": {
      "text/html": [
       "<div>\n",
       "<style scoped>\n",
       "    .dataframe tbody tr th:only-of-type {\n",
       "        vertical-align: middle;\n",
       "    }\n",
       "\n",
       "    .dataframe tbody tr th {\n",
       "        vertical-align: top;\n",
       "    }\n",
       "\n",
       "    .dataframe thead th {\n",
       "        text-align: right;\n",
       "    }\n",
       "</style>\n",
       "<table border=\"1\" class=\"dataframe\">\n",
       "  <thead>\n",
       "    <tr style=\"text-align: right;\">\n",
       "      <th></th>\n",
       "      <th>ID</th>\n",
       "      <th>CREDIT_SCORE</th>\n",
       "      <th>VEHICLE_OWNERSHIP</th>\n",
       "      <th>MARRIED</th>\n",
       "      <th>CHILDREN</th>\n",
       "      <th>POSTAL_CODE</th>\n",
       "      <th>ANNUAL_MILEAGE</th>\n",
       "      <th>SPEEDING_VIOLATIONS</th>\n",
       "      <th>DUIS</th>\n",
       "      <th>PAST_ACCIDENTS</th>\n",
       "      <th>OUTCOME</th>\n",
       "    </tr>\n",
       "  </thead>\n",
       "  <tbody>\n",
       "    <tr>\n",
       "      <th>ID</th>\n",
       "      <td>True</td>\n",
       "      <td>False</td>\n",
       "      <td>False</td>\n",
       "      <td>False</td>\n",
       "      <td>False</td>\n",
       "      <td>False</td>\n",
       "      <td>False</td>\n",
       "      <td>False</td>\n",
       "      <td>False</td>\n",
       "      <td>False</td>\n",
       "      <td>False</td>\n",
       "    </tr>\n",
       "    <tr>\n",
       "      <th>CREDIT_SCORE</th>\n",
       "      <td>False</td>\n",
       "      <td>True</td>\n",
       "      <td>True</td>\n",
       "      <td>False</td>\n",
       "      <td>False</td>\n",
       "      <td>False</td>\n",
       "      <td>False</td>\n",
       "      <td>False</td>\n",
       "      <td>False</td>\n",
       "      <td>False</td>\n",
       "      <td>False</td>\n",
       "    </tr>\n",
       "    <tr>\n",
       "      <th>VEHICLE_OWNERSHIP</th>\n",
       "      <td>False</td>\n",
       "      <td>True</td>\n",
       "      <td>True</td>\n",
       "      <td>False</td>\n",
       "      <td>False</td>\n",
       "      <td>False</td>\n",
       "      <td>False</td>\n",
       "      <td>False</td>\n",
       "      <td>False</td>\n",
       "      <td>False</td>\n",
       "      <td>False</td>\n",
       "    </tr>\n",
       "    <tr>\n",
       "      <th>MARRIED</th>\n",
       "      <td>False</td>\n",
       "      <td>False</td>\n",
       "      <td>False</td>\n",
       "      <td>True</td>\n",
       "      <td>False</td>\n",
       "      <td>False</td>\n",
       "      <td>False</td>\n",
       "      <td>False</td>\n",
       "      <td>False</td>\n",
       "      <td>False</td>\n",
       "      <td>False</td>\n",
       "    </tr>\n",
       "    <tr>\n",
       "      <th>CHILDREN</th>\n",
       "      <td>False</td>\n",
       "      <td>False</td>\n",
       "      <td>False</td>\n",
       "      <td>False</td>\n",
       "      <td>True</td>\n",
       "      <td>False</td>\n",
       "      <td>False</td>\n",
       "      <td>False</td>\n",
       "      <td>False</td>\n",
       "      <td>False</td>\n",
       "      <td>False</td>\n",
       "    </tr>\n",
       "    <tr>\n",
       "      <th>POSTAL_CODE</th>\n",
       "      <td>False</td>\n",
       "      <td>False</td>\n",
       "      <td>False</td>\n",
       "      <td>False</td>\n",
       "      <td>False</td>\n",
       "      <td>True</td>\n",
       "      <td>False</td>\n",
       "      <td>False</td>\n",
       "      <td>False</td>\n",
       "      <td>False</td>\n",
       "      <td>False</td>\n",
       "    </tr>\n",
       "    <tr>\n",
       "      <th>ANNUAL_MILEAGE</th>\n",
       "      <td>False</td>\n",
       "      <td>False</td>\n",
       "      <td>False</td>\n",
       "      <td>False</td>\n",
       "      <td>False</td>\n",
       "      <td>False</td>\n",
       "      <td>True</td>\n",
       "      <td>False</td>\n",
       "      <td>False</td>\n",
       "      <td>False</td>\n",
       "      <td>False</td>\n",
       "    </tr>\n",
       "    <tr>\n",
       "      <th>SPEEDING_VIOLATIONS</th>\n",
       "      <td>False</td>\n",
       "      <td>False</td>\n",
       "      <td>False</td>\n",
       "      <td>False</td>\n",
       "      <td>False</td>\n",
       "      <td>False</td>\n",
       "      <td>False</td>\n",
       "      <td>True</td>\n",
       "      <td>True</td>\n",
       "      <td>True</td>\n",
       "      <td>False</td>\n",
       "    </tr>\n",
       "    <tr>\n",
       "      <th>DUIS</th>\n",
       "      <td>False</td>\n",
       "      <td>False</td>\n",
       "      <td>False</td>\n",
       "      <td>False</td>\n",
       "      <td>False</td>\n",
       "      <td>False</td>\n",
       "      <td>False</td>\n",
       "      <td>True</td>\n",
       "      <td>True</td>\n",
       "      <td>False</td>\n",
       "      <td>False</td>\n",
       "    </tr>\n",
       "    <tr>\n",
       "      <th>PAST_ACCIDENTS</th>\n",
       "      <td>False</td>\n",
       "      <td>False</td>\n",
       "      <td>False</td>\n",
       "      <td>False</td>\n",
       "      <td>False</td>\n",
       "      <td>False</td>\n",
       "      <td>False</td>\n",
       "      <td>True</td>\n",
       "      <td>False</td>\n",
       "      <td>True</td>\n",
       "      <td>False</td>\n",
       "    </tr>\n",
       "    <tr>\n",
       "      <th>OUTCOME</th>\n",
       "      <td>False</td>\n",
       "      <td>False</td>\n",
       "      <td>False</td>\n",
       "      <td>False</td>\n",
       "      <td>False</td>\n",
       "      <td>False</td>\n",
       "      <td>False</td>\n",
       "      <td>False</td>\n",
       "      <td>False</td>\n",
       "      <td>False</td>\n",
       "      <td>True</td>\n",
       "    </tr>\n",
       "  </tbody>\n",
       "</table>\n",
       "</div>"
      ],
      "text/plain": [
       "                        ID  CREDIT_SCORE  VEHICLE_OWNERSHIP  MARRIED  \\\n",
       "ID                    True         False              False    False   \n",
       "CREDIT_SCORE         False          True               True    False   \n",
       "VEHICLE_OWNERSHIP    False          True               True    False   \n",
       "MARRIED              False         False              False     True   \n",
       "CHILDREN             False         False              False    False   \n",
       "POSTAL_CODE          False         False              False    False   \n",
       "ANNUAL_MILEAGE       False         False              False    False   \n",
       "SPEEDING_VIOLATIONS  False         False              False    False   \n",
       "DUIS                 False         False              False    False   \n",
       "PAST_ACCIDENTS       False         False              False    False   \n",
       "OUTCOME              False         False              False    False   \n",
       "\n",
       "                     CHILDREN  POSTAL_CODE  ANNUAL_MILEAGE  \\\n",
       "ID                      False        False           False   \n",
       "CREDIT_SCORE            False        False           False   \n",
       "VEHICLE_OWNERSHIP       False        False           False   \n",
       "MARRIED                 False        False           False   \n",
       "CHILDREN                 True        False           False   \n",
       "POSTAL_CODE             False         True           False   \n",
       "ANNUAL_MILEAGE          False        False            True   \n",
       "SPEEDING_VIOLATIONS     False        False           False   \n",
       "DUIS                    False        False           False   \n",
       "PAST_ACCIDENTS          False        False           False   \n",
       "OUTCOME                 False        False           False   \n",
       "\n",
       "                     SPEEDING_VIOLATIONS   DUIS  PAST_ACCIDENTS  OUTCOME  \n",
       "ID                                 False  False           False    False  \n",
       "CREDIT_SCORE                       False  False           False    False  \n",
       "VEHICLE_OWNERSHIP                  False  False           False    False  \n",
       "MARRIED                            False  False           False    False  \n",
       "CHILDREN                           False  False           False    False  \n",
       "POSTAL_CODE                        False  False           False    False  \n",
       "ANNUAL_MILEAGE                     False  False           False    False  \n",
       "SPEEDING_VIOLATIONS                 True   True            True    False  \n",
       "DUIS                                True   True           False    False  \n",
       "PAST_ACCIDENTS                      True  False            True    False  \n",
       "OUTCOME                            False  False           False     True  "
      ]
     },
     "execution_count": 32,
     "metadata": {},
     "output_type": "execute_result"
    }
   ],
   "source": [
    "corr_matrix >= 0.3"
   ]
  },
  {
   "cell_type": "markdown",
   "id": "b25ce88d",
   "metadata": {},
   "source": [
    "Положительная корреляция показывает взаимосвязь пропорционального возрастания величин.  \n",
    "Можно заметить небольшую зависимость между кредитным рейтингом и фактом владением машины: с повышением кредитного рейтинга повышается факт наличия автомобиля. Можно предположить здесь такую взаимосвязь: платежеспособность человека определяет его кредитный рейтинг, так как машина дорогое приобретение, то платежеспособность человека должна быть высокой, а соответсвенно и высоким должен быть кредитный рейтинг.  \n",
    "Так же видна взаимосвязь между пунктами об авариях, превышении скорости и вождении в нетрезвом виде. Здесь все очевидно: вождение в нетрезвом виде и превышение скорости порождают аварии.  "
   ]
  },
  {
   "cell_type": "code",
   "execution_count": 33,
   "id": "235259aa",
   "metadata": {},
   "outputs": [
    {
     "data": {
      "text/html": [
       "<div>\n",
       "<style scoped>\n",
       "    .dataframe tbody tr th:only-of-type {\n",
       "        vertical-align: middle;\n",
       "    }\n",
       "\n",
       "    .dataframe tbody tr th {\n",
       "        vertical-align: top;\n",
       "    }\n",
       "\n",
       "    .dataframe thead th {\n",
       "        text-align: right;\n",
       "    }\n",
       "</style>\n",
       "<table border=\"1\" class=\"dataframe\">\n",
       "  <thead>\n",
       "    <tr style=\"text-align: right;\">\n",
       "      <th></th>\n",
       "      <th>ID</th>\n",
       "      <th>CREDIT_SCORE</th>\n",
       "      <th>VEHICLE_OWNERSHIP</th>\n",
       "      <th>MARRIED</th>\n",
       "      <th>CHILDREN</th>\n",
       "      <th>POSTAL_CODE</th>\n",
       "      <th>ANNUAL_MILEAGE</th>\n",
       "      <th>SPEEDING_VIOLATIONS</th>\n",
       "      <th>DUIS</th>\n",
       "      <th>PAST_ACCIDENTS</th>\n",
       "      <th>OUTCOME</th>\n",
       "    </tr>\n",
       "  </thead>\n",
       "  <tbody>\n",
       "    <tr>\n",
       "      <th>ID</th>\n",
       "      <td>False</td>\n",
       "      <td>False</td>\n",
       "      <td>False</td>\n",
       "      <td>False</td>\n",
       "      <td>False</td>\n",
       "      <td>False</td>\n",
       "      <td>False</td>\n",
       "      <td>False</td>\n",
       "      <td>False</td>\n",
       "      <td>False</td>\n",
       "      <td>False</td>\n",
       "    </tr>\n",
       "    <tr>\n",
       "      <th>CREDIT_SCORE</th>\n",
       "      <td>False</td>\n",
       "      <td>False</td>\n",
       "      <td>False</td>\n",
       "      <td>False</td>\n",
       "      <td>False</td>\n",
       "      <td>False</td>\n",
       "      <td>False</td>\n",
       "      <td>False</td>\n",
       "      <td>False</td>\n",
       "      <td>False</td>\n",
       "      <td>True</td>\n",
       "    </tr>\n",
       "    <tr>\n",
       "      <th>VEHICLE_OWNERSHIP</th>\n",
       "      <td>False</td>\n",
       "      <td>False</td>\n",
       "      <td>False</td>\n",
       "      <td>False</td>\n",
       "      <td>False</td>\n",
       "      <td>False</td>\n",
       "      <td>False</td>\n",
       "      <td>False</td>\n",
       "      <td>False</td>\n",
       "      <td>False</td>\n",
       "      <td>True</td>\n",
       "    </tr>\n",
       "    <tr>\n",
       "      <th>MARRIED</th>\n",
       "      <td>False</td>\n",
       "      <td>False</td>\n",
       "      <td>False</td>\n",
       "      <td>False</td>\n",
       "      <td>False</td>\n",
       "      <td>False</td>\n",
       "      <td>True</td>\n",
       "      <td>False</td>\n",
       "      <td>False</td>\n",
       "      <td>False</td>\n",
       "      <td>False</td>\n",
       "    </tr>\n",
       "    <tr>\n",
       "      <th>CHILDREN</th>\n",
       "      <td>False</td>\n",
       "      <td>False</td>\n",
       "      <td>False</td>\n",
       "      <td>False</td>\n",
       "      <td>False</td>\n",
       "      <td>False</td>\n",
       "      <td>True</td>\n",
       "      <td>False</td>\n",
       "      <td>False</td>\n",
       "      <td>False</td>\n",
       "      <td>False</td>\n",
       "    </tr>\n",
       "    <tr>\n",
       "      <th>POSTAL_CODE</th>\n",
       "      <td>False</td>\n",
       "      <td>False</td>\n",
       "      <td>False</td>\n",
       "      <td>False</td>\n",
       "      <td>False</td>\n",
       "      <td>False</td>\n",
       "      <td>False</td>\n",
       "      <td>False</td>\n",
       "      <td>False</td>\n",
       "      <td>False</td>\n",
       "      <td>False</td>\n",
       "    </tr>\n",
       "    <tr>\n",
       "      <th>ANNUAL_MILEAGE</th>\n",
       "      <td>False</td>\n",
       "      <td>False</td>\n",
       "      <td>False</td>\n",
       "      <td>True</td>\n",
       "      <td>True</td>\n",
       "      <td>False</td>\n",
       "      <td>False</td>\n",
       "      <td>True</td>\n",
       "      <td>False</td>\n",
       "      <td>False</td>\n",
       "      <td>False</td>\n",
       "    </tr>\n",
       "    <tr>\n",
       "      <th>SPEEDING_VIOLATIONS</th>\n",
       "      <td>False</td>\n",
       "      <td>False</td>\n",
       "      <td>False</td>\n",
       "      <td>False</td>\n",
       "      <td>False</td>\n",
       "      <td>False</td>\n",
       "      <td>True</td>\n",
       "      <td>False</td>\n",
       "      <td>False</td>\n",
       "      <td>False</td>\n",
       "      <td>False</td>\n",
       "    </tr>\n",
       "    <tr>\n",
       "      <th>DUIS</th>\n",
       "      <td>False</td>\n",
       "      <td>False</td>\n",
       "      <td>False</td>\n",
       "      <td>False</td>\n",
       "      <td>False</td>\n",
       "      <td>False</td>\n",
       "      <td>False</td>\n",
       "      <td>False</td>\n",
       "      <td>False</td>\n",
       "      <td>False</td>\n",
       "      <td>False</td>\n",
       "    </tr>\n",
       "    <tr>\n",
       "      <th>PAST_ACCIDENTS</th>\n",
       "      <td>False</td>\n",
       "      <td>False</td>\n",
       "      <td>False</td>\n",
       "      <td>False</td>\n",
       "      <td>False</td>\n",
       "      <td>False</td>\n",
       "      <td>False</td>\n",
       "      <td>False</td>\n",
       "      <td>False</td>\n",
       "      <td>False</td>\n",
       "      <td>True</td>\n",
       "    </tr>\n",
       "    <tr>\n",
       "      <th>OUTCOME</th>\n",
       "      <td>False</td>\n",
       "      <td>True</td>\n",
       "      <td>True</td>\n",
       "      <td>False</td>\n",
       "      <td>False</td>\n",
       "      <td>False</td>\n",
       "      <td>False</td>\n",
       "      <td>False</td>\n",
       "      <td>False</td>\n",
       "      <td>True</td>\n",
       "      <td>False</td>\n",
       "    </tr>\n",
       "  </tbody>\n",
       "</table>\n",
       "</div>"
      ],
      "text/plain": [
       "                        ID  CREDIT_SCORE  VEHICLE_OWNERSHIP  MARRIED  \\\n",
       "ID                   False         False              False    False   \n",
       "CREDIT_SCORE         False         False              False    False   \n",
       "VEHICLE_OWNERSHIP    False         False              False    False   \n",
       "MARRIED              False         False              False    False   \n",
       "CHILDREN             False         False              False    False   \n",
       "POSTAL_CODE          False         False              False    False   \n",
       "ANNUAL_MILEAGE       False         False              False     True   \n",
       "SPEEDING_VIOLATIONS  False         False              False    False   \n",
       "DUIS                 False         False              False    False   \n",
       "PAST_ACCIDENTS       False         False              False    False   \n",
       "OUTCOME              False          True               True    False   \n",
       "\n",
       "                     CHILDREN  POSTAL_CODE  ANNUAL_MILEAGE  \\\n",
       "ID                      False        False           False   \n",
       "CREDIT_SCORE            False        False           False   \n",
       "VEHICLE_OWNERSHIP       False        False           False   \n",
       "MARRIED                 False        False            True   \n",
       "CHILDREN                False        False            True   \n",
       "POSTAL_CODE             False        False           False   \n",
       "ANNUAL_MILEAGE           True        False           False   \n",
       "SPEEDING_VIOLATIONS     False        False            True   \n",
       "DUIS                    False        False           False   \n",
       "PAST_ACCIDENTS          False        False           False   \n",
       "OUTCOME                 False        False           False   \n",
       "\n",
       "                     SPEEDING_VIOLATIONS   DUIS  PAST_ACCIDENTS  OUTCOME  \n",
       "ID                                 False  False           False    False  \n",
       "CREDIT_SCORE                       False  False           False     True  \n",
       "VEHICLE_OWNERSHIP                  False  False           False     True  \n",
       "MARRIED                            False  False           False    False  \n",
       "CHILDREN                           False  False           False    False  \n",
       "POSTAL_CODE                        False  False           False    False  \n",
       "ANNUAL_MILEAGE                      True  False           False    False  \n",
       "SPEEDING_VIOLATIONS                False  False           False    False  \n",
       "DUIS                               False  False           False    False  \n",
       "PAST_ACCIDENTS                     False  False           False     True  \n",
       "OUTCOME                            False  False            True    False  "
      ]
     },
     "execution_count": 33,
     "metadata": {},
     "output_type": "execute_result"
    }
   ],
   "source": [
    "corr_matrix <= -0.3"
   ]
  },
  {
   "cell_type": "markdown",
   "id": "51d0c463",
   "metadata": {},
   "source": [
    "Отрицательная корреляция показывает взаимосвязь тех величин, где за счет возрастания одной величины, убывает другая.  \n",
    "Отрицательная корреляция между признаками количества аварий и получением страховки понятна: страховая компания откажет в получении страховки лицу, который часто попадает в ДТП, ей это просто невыгодно.  "
   ]
  },
  {
   "cell_type": "markdown",
   "id": "aa037aa8",
   "metadata": {},
   "source": [
    "Выведем некоторые интересующие нас пары признаков для визуализации их связи:"
   ]
  },
  {
   "cell_type": "code",
   "execution_count": 34,
   "id": "e5d38cb4",
   "metadata": {},
   "outputs": [
    {
     "data": {
      "image/png": "[encoded data removed]",
      "text/plain": [
       "<Figure size 432x288 with 1 Axes>"
      ]
     },
     "metadata": {
      "needs_background": "light"
     },
     "output_type": "display_data"
    }
   ],
   "source": [
    "plt.scatter(data_raw['VEHICLE_OWNERSHIP'], data_raw['CREDIT_SCORE'], alpha=0.4)\n",
    "pass"
   ]
  },
  {
   "cell_type": "code",
   "execution_count": 35,
   "id": "b93b256d",
   "metadata": {},
   "outputs": [
    {
     "data": {
      "image/png": "[encoded data removed]",
      "text/plain": [
       "<Figure size 432x288 with 1 Axes>"
      ]
     },
     "metadata": {
      "needs_background": "light"
     },
     "output_type": "display_data"
    }
   ],
   "source": [
    "plt.scatter(data_raw['SPEEDING_VIOLATIONS'], data_raw['DUIS'], alpha=0.4)\n",
    "pass"
   ]
  },
  {
   "cell_type": "code",
   "execution_count": 36,
   "id": "c95f1197",
   "metadata": {},
   "outputs": [
    {
     "data": {
      "image/png": "[encoded data removed]",
      "text/plain": [
       "<Figure size 432x288 with 1 Axes>"
      ]
     },
     "metadata": {
      "needs_background": "light"
     },
     "output_type": "display_data"
    }
   ],
   "source": [
    "plt.scatter(data_raw['SPEEDING_VIOLATIONS'], data_raw['PAST_ACCIDENTS'], alpha=0.4)\n",
    "pass"
   ]
  },
  {
   "cell_type": "markdown",
   "id": "fdf530d4",
   "metadata": {},
   "source": [
    "Теперь проанализируем какие возрастные категории водят машину, а значит пользуются страховкой"
   ]
  },
  {
   "cell_type": "code",
   "execution_count": 37,
   "id": "7a60852d",
   "metadata": {},
   "outputs": [
    {
     "data": {
      "image/png": "[encoded data removed]",
      "text/plain": [
       "<Figure size 432x288 with 1 Axes>"
      ]
     },
     "metadata": {
      "needs_background": "light"
     },
     "output_type": "display_data"
    }
   ],
   "source": [
    "sns.countplot(x='AGE', data=data)\n",
    "pass"
   ]
  },
  {
   "cell_type": "markdown",
   "id": "cf1af93c",
   "metadata": {},
   "source": [
    "Больше всего водителей среди таких возрастных категорий, как 26-39 и 40-64, что неудивительно"
   ]
  },
  {
   "cell_type": "markdown",
   "id": "b6036632",
   "metadata": {},
   "source": [
    "Увидим каким типом машина предпочитают пользоваться потребители"
   ]
  },
  {
   "cell_type": "code",
   "execution_count": 38,
   "id": "6a3bfc70",
   "metadata": {},
   "outputs": [
    {
     "data": {
      "image/png": "[encoded data removed]",
      "text/plain": [
       "<Figure size 432x288 with 1 Axes>"
      ]
     },
     "metadata": {
      "needs_background": "light"
     },
     "output_type": "display_data"
    }
   ],
   "source": [
    "sns.countplot(x='VEHICLE_TYPE', data=data)\n",
    "pass"
   ]
  },
  {
   "cell_type": "markdown",
   "id": "71c95f2d",
   "metadata": {},
   "source": [
    "Число пользователей седанов значительно выше пользователей спортивных машин, так как спортивные машины значительно дороже седанов"
   ]
  },
  {
   "cell_type": "markdown",
   "id": "b9db84ea",
   "metadata": {},
   "source": [
    "А теперь посмотрим сколько клиентов владеют автомобилями"
   ]
  },
  {
   "cell_type": "code",
   "execution_count": 39,
   "id": "59cb92e0",
   "metadata": {},
   "outputs": [
    {
     "data": {
      "image/png": "[encoded data removed]",
      "text/plain": [
       "<Figure size 432x288 with 1 Axes>"
      ]
     },
     "metadata": {
      "needs_background": "light"
     },
     "output_type": "display_data"
    }
   ],
   "source": [
    "sns.countplot(x='VEHICLE_OWNERSHIP', data=data)\n",
    "pass"
   ]
  },
  {
   "cell_type": "markdown",
   "id": "9296a30d",
   "metadata": {},
   "source": [
    "Людей, владеющих автомобилем, примерно в два раза больше людей, невладеющих автомобилем"
   ]
  },
  {
   "cell_type": "markdown",
   "id": "a38bf338",
   "metadata": {},
   "source": [
    "# Обработка пропущенных значений\n",
    "\n",
    "Выведем столбцы с пустотами и их количество"
   ]
  },
  {
   "cell_type": "code",
   "execution_count": 40,
   "id": "ee2d5b22",
   "metadata": {},
   "outputs": [
    {
     "data": {
      "text/plain": [
       "ID                       0\n",
       "AGE                      0\n",
       "GENDER                   0\n",
       "RACE                     0\n",
       "DRIVING_EXPERIENCE       0\n",
       "EDUCATION                0\n",
       "INCOME                   0\n",
       "CREDIT_SCORE           982\n",
       "VEHICLE_OWNERSHIP        0\n",
       "VEHICLE_YEAR             0\n",
       "MARRIED                  0\n",
       "CHILDREN                 0\n",
       "POSTAL_CODE              0\n",
       "ANNUAL_MILEAGE         957\n",
       "VEHICLE_TYPE             0\n",
       "SPEEDING_VIOLATIONS      0\n",
       "DUIS                     0\n",
       "PAST_ACCIDENTS           0\n",
       "OUTCOME                  0\n",
       "dtype: int64"
      ]
     },
     "execution_count": 40,
     "metadata": {},
     "output_type": "execute_result"
    }
   ],
   "source": [
    "data_raw.isna().sum()"
   ]
  },
  {
   "cell_type": "markdown",
   "id": "38e02d44",
   "metadata": {},
   "source": [
    "Пропущенных значений довольно много, поэтому заполним все пустоты"
   ]
  },
  {
   "cell_type": "code",
   "execution_count": 41,
   "id": "738d47b1",
   "metadata": {},
   "outputs": [],
   "source": [
    "# заполнение медианой пустот количественных признаков\n",
    "data_raw.fillna(data_raw.median(axis = 0), axis=0 , inplace=True)"
   ]
  },
  {
   "cell_type": "markdown",
   "id": "7687f0c4",
   "metadata": {},
   "source": [
    "Проверим остались ли еще пустоты"
   ]
  },
  {
   "cell_type": "code",
   "execution_count": 42,
   "id": "52b618f5",
   "metadata": {},
   "outputs": [
    {
     "data": {
      "text/plain": [
       "ID                     0\n",
       "AGE                    0\n",
       "GENDER                 0\n",
       "RACE                   0\n",
       "DRIVING_EXPERIENCE     0\n",
       "EDUCATION              0\n",
       "INCOME                 0\n",
       "CREDIT_SCORE           0\n",
       "VEHICLE_OWNERSHIP      0\n",
       "VEHICLE_YEAR           0\n",
       "MARRIED                0\n",
       "CHILDREN               0\n",
       "POSTAL_CODE            0\n",
       "ANNUAL_MILEAGE         0\n",
       "VEHICLE_TYPE           0\n",
       "SPEEDING_VIOLATIONS    0\n",
       "DUIS                   0\n",
       "PAST_ACCIDENTS         0\n",
       "OUTCOME                0\n",
       "dtype: int64"
      ]
     },
     "execution_count": 42,
     "metadata": {},
     "output_type": "execute_result"
    }
   ],
   "source": [
    "data_raw.isna().sum()"
   ]
  },
  {
   "cell_type": "markdown",
   "id": "60b81edc",
   "metadata": {},
   "source": [
    "Пустот не осталось"
   ]
  },
  {
   "cell_type": "markdown",
   "id": "394fdacf",
   "metadata": {},
   "source": [
    "# Нормализация признаков\n",
    "\n",
    "Алгоритмы из библиотеки scikit-learn (почти) не умеют работать напрямую с категориальными признаками. Поэтому их вначале надо закодировать с помощью числовых признаков.\n",
    "\n",
    "Можем бинаризовать некоторые признаки.  \n",
    "Бинаризация коснется: гендера, рассовой принадлежности (большинство/меньшинство), год автомобиля (до 2015/после 2015), тип автомобиля(седан/спортивный)"
   ]
  },
  {
   "cell_type": "code",
   "execution_count": 43,
   "id": "dece2e51",
   "metadata": {},
   "outputs": [
    {
     "data": {
      "text/html": [
       "<div>\n",
       "<style scoped>\n",
       "    .dataframe tbody tr th:only-of-type {\n",
       "        vertical-align: middle;\n",
       "    }\n",
       "\n",
       "    .dataframe tbody tr th {\n",
       "        vertical-align: top;\n",
       "    }\n",
       "\n",
       "    .dataframe thead th {\n",
       "        text-align: right;\n",
       "    }\n",
       "</style>\n",
       "<table border=\"1\" class=\"dataframe\">\n",
       "  <thead>\n",
       "    <tr style=\"text-align: right;\">\n",
       "      <th></th>\n",
       "      <th>ID</th>\n",
       "      <th>AGE</th>\n",
       "      <th>GENDER</th>\n",
       "      <th>RACE</th>\n",
       "      <th>DRIVING_EXPERIENCE</th>\n",
       "      <th>EDUCATION</th>\n",
       "      <th>INCOME</th>\n",
       "      <th>CREDIT_SCORE</th>\n",
       "      <th>VEHICLE_OWNERSHIP</th>\n",
       "      <th>VEHICLE_YEAR</th>\n",
       "      <th>MARRIED</th>\n",
       "      <th>CHILDREN</th>\n",
       "      <th>POSTAL_CODE</th>\n",
       "      <th>ANNUAL_MILEAGE</th>\n",
       "      <th>VEHICLE_TYPE</th>\n",
       "      <th>SPEEDING_VIOLATIONS</th>\n",
       "      <th>DUIS</th>\n",
       "      <th>PAST_ACCIDENTS</th>\n",
       "      <th>OUTCOME</th>\n",
       "    </tr>\n",
       "  </thead>\n",
       "  <tbody>\n",
       "    <tr>\n",
       "      <th>0</th>\n",
       "      <td>569520</td>\n",
       "      <td>65+</td>\n",
       "      <td>0</td>\n",
       "      <td>0</td>\n",
       "      <td>0-9y</td>\n",
       "      <td>high school</td>\n",
       "      <td>upper class</td>\n",
       "      <td>0.629027</td>\n",
       "      <td>1.0</td>\n",
       "      <td>0</td>\n",
       "      <td>0.0</td>\n",
       "      <td>1.0</td>\n",
       "      <td>10238</td>\n",
       "      <td>12000.0</td>\n",
       "      <td>0</td>\n",
       "      <td>0</td>\n",
       "      <td>0</td>\n",
       "      <td>0</td>\n",
       "      <td>0.0</td>\n",
       "    </tr>\n",
       "    <tr>\n",
       "      <th>1</th>\n",
       "      <td>750365</td>\n",
       "      <td>16-25</td>\n",
       "      <td>1</td>\n",
       "      <td>0</td>\n",
       "      <td>0-9y</td>\n",
       "      <td>none</td>\n",
       "      <td>poverty</td>\n",
       "      <td>0.357757</td>\n",
       "      <td>0.0</td>\n",
       "      <td>1</td>\n",
       "      <td>0.0</td>\n",
       "      <td>0.0</td>\n",
       "      <td>10238</td>\n",
       "      <td>16000.0</td>\n",
       "      <td>0</td>\n",
       "      <td>0</td>\n",
       "      <td>0</td>\n",
       "      <td>0</td>\n",
       "      <td>1.0</td>\n",
       "    </tr>\n",
       "    <tr>\n",
       "      <th>2</th>\n",
       "      <td>199901</td>\n",
       "      <td>16-25</td>\n",
       "      <td>0</td>\n",
       "      <td>0</td>\n",
       "      <td>0-9y</td>\n",
       "      <td>high school</td>\n",
       "      <td>working class</td>\n",
       "      <td>0.493146</td>\n",
       "      <td>1.0</td>\n",
       "      <td>1</td>\n",
       "      <td>0.0</td>\n",
       "      <td>0.0</td>\n",
       "      <td>10238</td>\n",
       "      <td>11000.0</td>\n",
       "      <td>0</td>\n",
       "      <td>0</td>\n",
       "      <td>0</td>\n",
       "      <td>0</td>\n",
       "      <td>0.0</td>\n",
       "    </tr>\n",
       "    <tr>\n",
       "      <th>3</th>\n",
       "      <td>478866</td>\n",
       "      <td>16-25</td>\n",
       "      <td>1</td>\n",
       "      <td>0</td>\n",
       "      <td>0-9y</td>\n",
       "      <td>university</td>\n",
       "      <td>working class</td>\n",
       "      <td>0.206013</td>\n",
       "      <td>1.0</td>\n",
       "      <td>1</td>\n",
       "      <td>0.0</td>\n",
       "      <td>1.0</td>\n",
       "      <td>32765</td>\n",
       "      <td>11000.0</td>\n",
       "      <td>0</td>\n",
       "      <td>0</td>\n",
       "      <td>0</td>\n",
       "      <td>0</td>\n",
       "      <td>0.0</td>\n",
       "    </tr>\n",
       "    <tr>\n",
       "      <th>4</th>\n",
       "      <td>731664</td>\n",
       "      <td>26-39</td>\n",
       "      <td>1</td>\n",
       "      <td>0</td>\n",
       "      <td>10-19y</td>\n",
       "      <td>none</td>\n",
       "      <td>working class</td>\n",
       "      <td>0.388366</td>\n",
       "      <td>1.0</td>\n",
       "      <td>1</td>\n",
       "      <td>0.0</td>\n",
       "      <td>0.0</td>\n",
       "      <td>32765</td>\n",
       "      <td>12000.0</td>\n",
       "      <td>0</td>\n",
       "      <td>2</td>\n",
       "      <td>0</td>\n",
       "      <td>1</td>\n",
       "      <td>1.0</td>\n",
       "    </tr>\n",
       "  </tbody>\n",
       "</table>\n",
       "</div>"
      ],
      "text/plain": [
       "       ID    AGE  GENDER  RACE DRIVING_EXPERIENCE    EDUCATION         INCOME  \\\n",
       "0  569520    65+       0     0               0-9y  high school    upper class   \n",
       "1  750365  16-25       1     0               0-9y         none        poverty   \n",
       "2  199901  16-25       0     0               0-9y  high school  working class   \n",
       "3  478866  16-25       1     0               0-9y   university  working class   \n",
       "4  731664  26-39       1     0             10-19y         none  working class   \n",
       "\n",
       "   CREDIT_SCORE  VEHICLE_OWNERSHIP  VEHICLE_YEAR  MARRIED  CHILDREN  \\\n",
       "0      0.629027                1.0             0      0.0       1.0   \n",
       "1      0.357757                0.0             1      0.0       0.0   \n",
       "2      0.493146                1.0             1      0.0       0.0   \n",
       "3      0.206013                1.0             1      0.0       1.0   \n",
       "4      0.388366                1.0             1      0.0       0.0   \n",
       "\n",
       "   POSTAL_CODE  ANNUAL_MILEAGE  VEHICLE_TYPE  SPEEDING_VIOLATIONS  DUIS  \\\n",
       "0        10238         12000.0             0                    0     0   \n",
       "1        10238         16000.0             0                    0     0   \n",
       "2        10238         11000.0             0                    0     0   \n",
       "3        32765         11000.0             0                    0     0   \n",
       "4        32765         12000.0             0                    2     0   \n",
       "\n",
       "   PAST_ACCIDENTS  OUTCOME  \n",
       "0               0      0.0  \n",
       "1               0      1.0  \n",
       "2               0      0.0  \n",
       "3               0      0.0  \n",
       "4               1      1.0  "
      ]
     },
     "execution_count": 43,
     "metadata": {},
     "output_type": "execute_result"
    }
   ],
   "source": [
    "# бинаризация гендера\n",
    "data_raw['GENDER'] = pd.factorize(data_raw['GENDER'])[0]\n",
    "# бинаризация рассовой принадлежности\n",
    "data_raw['RACE'] = pd.factorize(data_raw['RACE'])[0]\n",
    "# бинаризация года покупки автомобиля\n",
    "data_raw['VEHICLE_YEAR'] = pd.factorize(data_raw['VEHICLE_YEAR'])[0]\n",
    "# бинаризация типа автомобиля\n",
    "data_raw['VEHICLE_TYPE'] = pd.factorize(data_raw['VEHICLE_TYPE'])[0]\n",
    "data_raw.head()"
   ]
  },
  {
   "cell_type": "markdown",
   "id": "3b360133",
   "metadata": {},
   "source": [
    "Осталось обработать те категориальные признаки, где значений больше двух.  Такую бинаризацию можно выполнить с помощью функции get_dummies:"
   ]
  },
  {
   "cell_type": "code",
   "execution_count": 44,
   "id": "897becf0",
   "metadata": {
    "scrolled": true
   },
   "outputs": [
    {
     "name": "stdout",
     "output_type": "stream",
     "text": [
      "(10000, 30)\n"
     ]
    },
    {
     "data": {
      "text/html": [
       "<div>\n",
       "<style scoped>\n",
       "    .dataframe tbody tr th:only-of-type {\n",
       "        vertical-align: middle;\n",
       "    }\n",
       "\n",
       "    .dataframe tbody tr th {\n",
       "        vertical-align: top;\n",
       "    }\n",
       "\n",
       "    .dataframe thead th {\n",
       "        text-align: right;\n",
       "    }\n",
       "</style>\n",
       "<table border=\"1\" class=\"dataframe\">\n",
       "  <thead>\n",
       "    <tr style=\"text-align: right;\">\n",
       "      <th></th>\n",
       "      <th>ID</th>\n",
       "      <th>GENDER</th>\n",
       "      <th>RACE</th>\n",
       "      <th>CREDIT_SCORE</th>\n",
       "      <th>VEHICLE_OWNERSHIP</th>\n",
       "      <th>VEHICLE_YEAR</th>\n",
       "      <th>MARRIED</th>\n",
       "      <th>CHILDREN</th>\n",
       "      <th>POSTAL_CODE</th>\n",
       "      <th>ANNUAL_MILEAGE</th>\n",
       "      <th>...</th>\n",
       "      <th>DRIVING_EXPERIENCE_10-19y</th>\n",
       "      <th>DRIVING_EXPERIENCE_20-29y</th>\n",
       "      <th>DRIVING_EXPERIENCE_30y+</th>\n",
       "      <th>EDUCATION_high school</th>\n",
       "      <th>EDUCATION_none</th>\n",
       "      <th>EDUCATION_university</th>\n",
       "      <th>INCOME_middle class</th>\n",
       "      <th>INCOME_poverty</th>\n",
       "      <th>INCOME_upper class</th>\n",
       "      <th>INCOME_working class</th>\n",
       "    </tr>\n",
       "  </thead>\n",
       "  <tbody>\n",
       "    <tr>\n",
       "      <th>0</th>\n",
       "      <td>569520</td>\n",
       "      <td>0</td>\n",
       "      <td>0</td>\n",
       "      <td>0.629027</td>\n",
       "      <td>1.0</td>\n",
       "      <td>0</td>\n",
       "      <td>0.0</td>\n",
       "      <td>1.0</td>\n",
       "      <td>10238</td>\n",
       "      <td>12000.0</td>\n",
       "      <td>...</td>\n",
       "      <td>0</td>\n",
       "      <td>0</td>\n",
       "      <td>0</td>\n",
       "      <td>1</td>\n",
       "      <td>0</td>\n",
       "      <td>0</td>\n",
       "      <td>0</td>\n",
       "      <td>0</td>\n",
       "      <td>1</td>\n",
       "      <td>0</td>\n",
       "    </tr>\n",
       "    <tr>\n",
       "      <th>1</th>\n",
       "      <td>750365</td>\n",
       "      <td>1</td>\n",
       "      <td>0</td>\n",
       "      <td>0.357757</td>\n",
       "      <td>0.0</td>\n",
       "      <td>1</td>\n",
       "      <td>0.0</td>\n",
       "      <td>0.0</td>\n",
       "      <td>10238</td>\n",
       "      <td>16000.0</td>\n",
       "      <td>...</td>\n",
       "      <td>0</td>\n",
       "      <td>0</td>\n",
       "      <td>0</td>\n",
       "      <td>0</td>\n",
       "      <td>1</td>\n",
       "      <td>0</td>\n",
       "      <td>0</td>\n",
       "      <td>1</td>\n",
       "      <td>0</td>\n",
       "      <td>0</td>\n",
       "    </tr>\n",
       "    <tr>\n",
       "      <th>2</th>\n",
       "      <td>199901</td>\n",
       "      <td>0</td>\n",
       "      <td>0</td>\n",
       "      <td>0.493146</td>\n",
       "      <td>1.0</td>\n",
       "      <td>1</td>\n",
       "      <td>0.0</td>\n",
       "      <td>0.0</td>\n",
       "      <td>10238</td>\n",
       "      <td>11000.0</td>\n",
       "      <td>...</td>\n",
       "      <td>0</td>\n",
       "      <td>0</td>\n",
       "      <td>0</td>\n",
       "      <td>1</td>\n",
       "      <td>0</td>\n",
       "      <td>0</td>\n",
       "      <td>0</td>\n",
       "      <td>0</td>\n",
       "      <td>0</td>\n",
       "      <td>1</td>\n",
       "    </tr>\n",
       "    <tr>\n",
       "      <th>3</th>\n",
       "      <td>478866</td>\n",
       "      <td>1</td>\n",
       "      <td>0</td>\n",
       "      <td>0.206013</td>\n",
       "      <td>1.0</td>\n",
       "      <td>1</td>\n",
       "      <td>0.0</td>\n",
       "      <td>1.0</td>\n",
       "      <td>32765</td>\n",
       "      <td>11000.0</td>\n",
       "      <td>...</td>\n",
       "      <td>0</td>\n",
       "      <td>0</td>\n",
       "      <td>0</td>\n",
       "      <td>0</td>\n",
       "      <td>0</td>\n",
       "      <td>1</td>\n",
       "      <td>0</td>\n",
       "      <td>0</td>\n",
       "      <td>0</td>\n",
       "      <td>1</td>\n",
       "    </tr>\n",
       "    <tr>\n",
       "      <th>4</th>\n",
       "      <td>731664</td>\n",
       "      <td>1</td>\n",
       "      <td>0</td>\n",
       "      <td>0.388366</td>\n",
       "      <td>1.0</td>\n",
       "      <td>1</td>\n",
       "      <td>0.0</td>\n",
       "      <td>0.0</td>\n",
       "      <td>32765</td>\n",
       "      <td>12000.0</td>\n",
       "      <td>...</td>\n",
       "      <td>1</td>\n",
       "      <td>0</td>\n",
       "      <td>0</td>\n",
       "      <td>0</td>\n",
       "      <td>1</td>\n",
       "      <td>0</td>\n",
       "      <td>0</td>\n",
       "      <td>0</td>\n",
       "      <td>0</td>\n",
       "      <td>1</td>\n",
       "    </tr>\n",
       "  </tbody>\n",
       "</table>\n",
       "<p>5 rows × 30 columns</p>\n",
       "</div>"
      ],
      "text/plain": [
       "       ID  GENDER  RACE  CREDIT_SCORE  VEHICLE_OWNERSHIP  VEHICLE_YEAR  \\\n",
       "0  569520       0     0      0.629027                1.0             0   \n",
       "1  750365       1     0      0.357757                0.0             1   \n",
       "2  199901       0     0      0.493146                1.0             1   \n",
       "3  478866       1     0      0.206013                1.0             1   \n",
       "4  731664       1     0      0.388366                1.0             1   \n",
       "\n",
       "   MARRIED  CHILDREN  POSTAL_CODE  ANNUAL_MILEAGE  ...  \\\n",
       "0      0.0       1.0        10238         12000.0  ...   \n",
       "1      0.0       0.0        10238         16000.0  ...   \n",
       "2      0.0       0.0        10238         11000.0  ...   \n",
       "3      0.0       1.0        32765         11000.0  ...   \n",
       "4      0.0       0.0        32765         12000.0  ...   \n",
       "\n",
       "   DRIVING_EXPERIENCE_10-19y  DRIVING_EXPERIENCE_20-29y  \\\n",
       "0                          0                          0   \n",
       "1                          0                          0   \n",
       "2                          0                          0   \n",
       "3                          0                          0   \n",
       "4                          1                          0   \n",
       "\n",
       "   DRIVING_EXPERIENCE_30y+  EDUCATION_high school  EDUCATION_none  \\\n",
       "0                        0                      1               0   \n",
       "1                        0                      0               1   \n",
       "2                        0                      1               0   \n",
       "3                        0                      0               0   \n",
       "4                        0                      0               1   \n",
       "\n",
       "   EDUCATION_university  INCOME_middle class  INCOME_poverty  \\\n",
       "0                     0                    0               0   \n",
       "1                     0                    0               1   \n",
       "2                     0                    0               0   \n",
       "3                     1                    0               0   \n",
       "4                     0                    0               0   \n",
       "\n",
       "   INCOME_upper class  INCOME_working class  \n",
       "0                   1                     0  \n",
       "1                   0                     0  \n",
       "2                   0                     1  \n",
       "3                   0                     1  \n",
       "4                   0                     1  \n",
       "\n",
       "[5 rows x 30 columns]"
      ]
     },
     "execution_count": 44,
     "metadata": {},
     "output_type": "execute_result"
    }
   ],
   "source": [
    "data_raw = pd.get_dummies(data_raw)\n",
    "print(data_raw.shape)\n",
    "data_raw.head()"
   ]
  },
  {
   "cell_type": "markdown",
   "id": "82824c86",
   "metadata": {},
   "source": [
    "Теперь нормализуем количественные признаки, приведя значения к отрезку [0,1]"
   ]
  },
  {
   "cell_type": "code",
   "execution_count": 45,
   "id": "2347a4fa",
   "metadata": {},
   "outputs": [
    {
     "data": {
      "text/html": [
       "<div>\n",
       "<style scoped>\n",
       "    .dataframe tbody tr th:only-of-type {\n",
       "        vertical-align: middle;\n",
       "    }\n",
       "\n",
       "    .dataframe tbody tr th {\n",
       "        vertical-align: top;\n",
       "    }\n",
       "\n",
       "    .dataframe thead th {\n",
       "        text-align: right;\n",
       "    }\n",
       "</style>\n",
       "<table border=\"1\" class=\"dataframe\">\n",
       "  <thead>\n",
       "    <tr style=\"text-align: right;\">\n",
       "      <th></th>\n",
       "      <th>ID</th>\n",
       "      <th>GENDER</th>\n",
       "      <th>RACE</th>\n",
       "      <th>CREDIT_SCORE</th>\n",
       "      <th>VEHICLE_OWNERSHIP</th>\n",
       "      <th>VEHICLE_YEAR</th>\n",
       "      <th>MARRIED</th>\n",
       "      <th>CHILDREN</th>\n",
       "      <th>POSTAL_CODE</th>\n",
       "      <th>ANNUAL_MILEAGE</th>\n",
       "      <th>...</th>\n",
       "      <th>DRIVING_EXPERIENCE_10-19y</th>\n",
       "      <th>DRIVING_EXPERIENCE_20-29y</th>\n",
       "      <th>DRIVING_EXPERIENCE_30y+</th>\n",
       "      <th>EDUCATION_high school</th>\n",
       "      <th>EDUCATION_none</th>\n",
       "      <th>EDUCATION_university</th>\n",
       "      <th>INCOME_middle class</th>\n",
       "      <th>INCOME_poverty</th>\n",
       "      <th>INCOME_upper class</th>\n",
       "      <th>INCOME_working class</th>\n",
       "    </tr>\n",
       "  </thead>\n",
       "  <tbody>\n",
       "    <tr>\n",
       "      <th>count</th>\n",
       "      <td>10000.000000</td>\n",
       "      <td>10000.000000</td>\n",
       "      <td>10000.000000</td>\n",
       "      <td>10000.000000</td>\n",
       "      <td>10000.000000</td>\n",
       "      <td>10000.000000</td>\n",
       "      <td>10000.000000</td>\n",
       "      <td>10000.000000</td>\n",
       "      <td>10000.000000</td>\n",
       "      <td>10000.000000</td>\n",
       "      <td>...</td>\n",
       "      <td>10000.0000</td>\n",
       "      <td>10000.000000</td>\n",
       "      <td>10000.000000</td>\n",
       "      <td>10000.000000</td>\n",
       "      <td>10000.000000</td>\n",
       "      <td>10000.000000</td>\n",
       "      <td>10000.000000</td>\n",
       "      <td>10000.000000</td>\n",
       "      <td>10000.000000</td>\n",
       "      <td>10000.000000</td>\n",
       "    </tr>\n",
       "    <tr>\n",
       "      <th>mean</th>\n",
       "      <td>0.500483</td>\n",
       "      <td>0.499000</td>\n",
       "      <td>0.098800</td>\n",
       "      <td>0.510612</td>\n",
       "      <td>0.697000</td>\n",
       "      <td>0.696700</td>\n",
       "      <td>0.498200</td>\n",
       "      <td>0.688800</td>\n",
       "      <td>0.117593</td>\n",
       "      <td>0.486300</td>\n",
       "      <td>...</td>\n",
       "      <td>0.3299</td>\n",
       "      <td>0.211900</td>\n",
       "      <td>0.105200</td>\n",
       "      <td>0.415700</td>\n",
       "      <td>0.191500</td>\n",
       "      <td>0.392800</td>\n",
       "      <td>0.213800</td>\n",
       "      <td>0.181400</td>\n",
       "      <td>0.433600</td>\n",
       "      <td>0.171200</td>\n",
       "    </tr>\n",
       "    <tr>\n",
       "      <th>std</th>\n",
       "      <td>0.290067</td>\n",
       "      <td>0.500024</td>\n",
       "      <td>0.298408</td>\n",
       "      <td>0.144117</td>\n",
       "      <td>0.459578</td>\n",
       "      <td>0.459707</td>\n",
       "      <td>0.500022</td>\n",
       "      <td>0.463008</td>\n",
       "      <td>0.231064</td>\n",
       "      <td>0.134082</td>\n",
       "      <td>...</td>\n",
       "      <td>0.4702</td>\n",
       "      <td>0.408675</td>\n",
       "      <td>0.306826</td>\n",
       "      <td>0.492867</td>\n",
       "      <td>0.393501</td>\n",
       "      <td>0.488397</td>\n",
       "      <td>0.410008</td>\n",
       "      <td>0.385369</td>\n",
       "      <td>0.495596</td>\n",
       "      <td>0.376702</td>\n",
       "    </tr>\n",
       "    <tr>\n",
       "      <th>min</th>\n",
       "      <td>0.000000</td>\n",
       "      <td>0.000000</td>\n",
       "      <td>0.000000</td>\n",
       "      <td>0.000000</td>\n",
       "      <td>0.000000</td>\n",
       "      <td>0.000000</td>\n",
       "      <td>0.000000</td>\n",
       "      <td>0.000000</td>\n",
       "      <td>0.000000</td>\n",
       "      <td>0.000000</td>\n",
       "      <td>...</td>\n",
       "      <td>0.0000</td>\n",
       "      <td>0.000000</td>\n",
       "      <td>0.000000</td>\n",
       "      <td>0.000000</td>\n",
       "      <td>0.000000</td>\n",
       "      <td>0.000000</td>\n",
       "      <td>0.000000</td>\n",
       "      <td>0.000000</td>\n",
       "      <td>0.000000</td>\n",
       "      <td>0.000000</td>\n",
       "    </tr>\n",
       "    <tr>\n",
       "      <th>25%</th>\n",
       "      <td>0.249569</td>\n",
       "      <td>0.000000</td>\n",
       "      <td>0.000000</td>\n",
       "      <td>0.416714</td>\n",
       "      <td>0.000000</td>\n",
       "      <td>0.000000</td>\n",
       "      <td>0.000000</td>\n",
       "      <td>0.000000</td>\n",
       "      <td>0.000000</td>\n",
       "      <td>0.400000</td>\n",
       "      <td>...</td>\n",
       "      <td>0.0000</td>\n",
       "      <td>0.000000</td>\n",
       "      <td>0.000000</td>\n",
       "      <td>0.000000</td>\n",
       "      <td>0.000000</td>\n",
       "      <td>0.000000</td>\n",
       "      <td>0.000000</td>\n",
       "      <td>0.000000</td>\n",
       "      <td>0.000000</td>\n",
       "      <td>0.000000</td>\n",
       "    </tr>\n",
       "    <tr>\n",
       "      <th>50%</th>\n",
       "      <td>0.501739</td>\n",
       "      <td>0.000000</td>\n",
       "      <td>0.000000</td>\n",
       "      <td>0.519774</td>\n",
       "      <td>1.000000</td>\n",
       "      <td>1.000000</td>\n",
       "      <td>0.000000</td>\n",
       "      <td>1.000000</td>\n",
       "      <td>0.000000</td>\n",
       "      <td>0.500000</td>\n",
       "      <td>...</td>\n",
       "      <td>0.0000</td>\n",
       "      <td>0.000000</td>\n",
       "      <td>0.000000</td>\n",
       "      <td>0.000000</td>\n",
       "      <td>0.000000</td>\n",
       "      <td>0.000000</td>\n",
       "      <td>0.000000</td>\n",
       "      <td>0.000000</td>\n",
       "      <td>0.000000</td>\n",
       "      <td>0.000000</td>\n",
       "    </tr>\n",
       "    <tr>\n",
       "      <th>75%</th>\n",
       "      <td>0.753968</td>\n",
       "      <td>1.000000</td>\n",
       "      <td>0.000000</td>\n",
       "      <td>0.610769</td>\n",
       "      <td>1.000000</td>\n",
       "      <td>1.000000</td>\n",
       "      <td>1.000000</td>\n",
       "      <td>1.000000</td>\n",
       "      <td>0.275179</td>\n",
       "      <td>0.550000</td>\n",
       "      <td>...</td>\n",
       "      <td>1.0000</td>\n",
       "      <td>0.000000</td>\n",
       "      <td>0.000000</td>\n",
       "      <td>1.000000</td>\n",
       "      <td>0.000000</td>\n",
       "      <td>1.000000</td>\n",
       "      <td>0.000000</td>\n",
       "      <td>0.000000</td>\n",
       "      <td>1.000000</td>\n",
       "      <td>0.000000</td>\n",
       "    </tr>\n",
       "    <tr>\n",
       "      <th>max</th>\n",
       "      <td>1.000000</td>\n",
       "      <td>1.000000</td>\n",
       "      <td>1.000000</td>\n",
       "      <td>1.000000</td>\n",
       "      <td>1.000000</td>\n",
       "      <td>1.000000</td>\n",
       "      <td>1.000000</td>\n",
       "      <td>1.000000</td>\n",
       "      <td>1.000000</td>\n",
       "      <td>1.000000</td>\n",
       "      <td>...</td>\n",
       "      <td>1.0000</td>\n",
       "      <td>1.000000</td>\n",
       "      <td>1.000000</td>\n",
       "      <td>1.000000</td>\n",
       "      <td>1.000000</td>\n",
       "      <td>1.000000</td>\n",
       "      <td>1.000000</td>\n",
       "      <td>1.000000</td>\n",
       "      <td>1.000000</td>\n",
       "      <td>1.000000</td>\n",
       "    </tr>\n",
       "  </tbody>\n",
       "</table>\n",
       "<p>8 rows × 30 columns</p>\n",
       "</div>"
      ],
      "text/plain": [
       "                 ID        GENDER          RACE  CREDIT_SCORE  \\\n",
       "count  10000.000000  10000.000000  10000.000000  10000.000000   \n",
       "mean       0.500483      0.499000      0.098800      0.510612   \n",
       "std        0.290067      0.500024      0.298408      0.144117   \n",
       "min        0.000000      0.000000      0.000000      0.000000   \n",
       "25%        0.249569      0.000000      0.000000      0.416714   \n",
       "50%        0.501739      0.000000      0.000000      0.519774   \n",
       "75%        0.753968      1.000000      0.000000      0.610769   \n",
       "max        1.000000      1.000000      1.000000      1.000000   \n",
       "\n",
       "       VEHICLE_OWNERSHIP  VEHICLE_YEAR       MARRIED      CHILDREN  \\\n",
       "count       10000.000000  10000.000000  10000.000000  10000.000000   \n",
       "mean            0.697000      0.696700      0.498200      0.688800   \n",
       "std             0.459578      0.459707      0.500022      0.463008   \n",
       "min             0.000000      0.000000      0.000000      0.000000   \n",
       "25%             0.000000      0.000000      0.000000      0.000000   \n",
       "50%             1.000000      1.000000      0.000000      1.000000   \n",
       "75%             1.000000      1.000000      1.000000      1.000000   \n",
       "max             1.000000      1.000000      1.000000      1.000000   \n",
       "\n",
       "        POSTAL_CODE  ANNUAL_MILEAGE  ...  DRIVING_EXPERIENCE_10-19y  \\\n",
       "count  10000.000000    10000.000000  ...                 10000.0000   \n",
       "mean       0.117593        0.486300  ...                     0.3299   \n",
       "std        0.231064        0.134082  ...                     0.4702   \n",
       "min        0.000000        0.000000  ...                     0.0000   \n",
       "25%        0.000000        0.400000  ...                     0.0000   \n",
       "50%        0.000000        0.500000  ...                     0.0000   \n",
       "75%        0.275179        0.550000  ...                     1.0000   \n",
       "max        1.000000        1.000000  ...                     1.0000   \n",
       "\n",
       "       DRIVING_EXPERIENCE_20-29y  DRIVING_EXPERIENCE_30y+  \\\n",
       "count               10000.000000             10000.000000   \n",
       "mean                    0.211900                 0.105200   \n",
       "std                     0.408675                 0.306826   \n",
       "min                     0.000000                 0.000000   \n",
       "25%                     0.000000                 0.000000   \n",
       "50%                     0.000000                 0.000000   \n",
       "75%                     0.000000                 0.000000   \n",
       "max                     1.000000                 1.000000   \n",
       "\n",
       "       EDUCATION_high school  EDUCATION_none  EDUCATION_university  \\\n",
       "count           10000.000000    10000.000000          10000.000000   \n",
       "mean                0.415700        0.191500              0.392800   \n",
       "std                 0.492867        0.393501              0.488397   \n",
       "min                 0.000000        0.000000              0.000000   \n",
       "25%                 0.000000        0.000000              0.000000   \n",
       "50%                 0.000000        0.000000              0.000000   \n",
       "75%                 1.000000        0.000000              1.000000   \n",
       "max                 1.000000        1.000000              1.000000   \n",
       "\n",
       "       INCOME_middle class  INCOME_poverty  INCOME_upper class  \\\n",
       "count         10000.000000    10000.000000        10000.000000   \n",
       "mean              0.213800        0.181400            0.433600   \n",
       "std               0.410008        0.385369            0.495596   \n",
       "min               0.000000        0.000000            0.000000   \n",
       "25%               0.000000        0.000000            0.000000   \n",
       "50%               0.000000        0.000000            0.000000   \n",
       "75%               0.000000        0.000000            1.000000   \n",
       "max               1.000000        1.000000            1.000000   \n",
       "\n",
       "       INCOME_working class  \n",
       "count          10000.000000  \n",
       "mean               0.171200  \n",
       "std                0.376702  \n",
       "min                0.000000  \n",
       "25%                0.000000  \n",
       "50%                0.000000  \n",
       "75%                0.000000  \n",
       "max                1.000000  \n",
       "\n",
       "[8 rows x 30 columns]"
      ]
     },
     "execution_count": 45,
     "metadata": {},
     "output_type": "execute_result"
    }
   ],
   "source": [
    "data_normal = (data_raw - data_raw.min(axis=0)) / (data_raw.max(axis=0) - data_raw.min(axis=0))\n",
    "data_normal.describe()"
   ]
  },
  {
   "cell_type": "markdown",
   "id": "87e34c0a",
   "metadata": {},
   "source": [
    "# Выбор обучающей и тестовой выборки\n",
    "\n",
    "Для прогноза будем использовать все категории, кроме ID (и конечно самого прогноза)"
   ]
  },
  {
   "cell_type": "code",
   "execution_count": 46,
   "id": "ebc2e8dc",
   "metadata": {},
   "outputs": [],
   "source": [
    "X = data_normal.drop (['ID', 'OUTCOME'], axis=1) \n",
    "y = data_raw['OUTCOME']"
   ]
  },
  {
   "cell_type": "markdown",
   "id": "650f434b",
   "metadata": {},
   "source": [
    "Разобьем данные на обучающую (75%) и тестовую (25%) выборки:"
   ]
  },
  {
   "cell_type": "code",
   "execution_count": 47,
   "id": "9e301440",
   "metadata": {},
   "outputs": [
    {
     "data": {
      "text/plain": [
       "(7500, 2500)"
      ]
     },
     "execution_count": 47,
     "metadata": {},
     "output_type": "execute_result"
    }
   ],
   "source": [
    "from sklearn.model_selection import train_test_split\n",
    "X_train, X_test, y_train, y_test = train_test_split(X, y, test_size = 0.25, random_state = 42)\n",
    "\n",
    "N_train, _ = X_train.shape \n",
    "N_test,  _ = X_test.shape \n",
    "\n",
    "N_train, N_test"
   ]
  },
  {
   "cell_type": "markdown",
   "id": "0012a101",
   "metadata": {},
   "source": [
    "# Обучение с помощью классификатора ближайших соседей\n",
    "\n",
    "Используем функцию с параметрами по умолчанию"
   ]
  },
  {
   "cell_type": "code",
   "execution_count": 48,
   "id": "e9ce2bda",
   "metadata": {},
   "outputs": [
    {
     "name": "stdout",
     "output_type": "stream",
     "text": [
      "Accuracy. Train : 87.08%, Test: 80.00%. \n"
     ]
    }
   ],
   "source": [
    "from sklearn.neighbors import KNeighborsClassifier\n",
    "\n",
    "knn_def = KNeighborsClassifier()\n",
    "knn_def.fit(X_train, y_train)\n",
    "knn_train_pred = 100 * knn_def.score(X_train, y_train)\n",
    "knn_test_pred = 100 * knn_def.score(X_test, y_test)\n",
    "print(\"Accuracy. Train : {:.2f}%, Test: {:.2f}%. \".format(knn_train_pred, knn_test_pred))"
   ]
  },
  {
   "cell_type": "markdown",
   "id": "a22892c4",
   "metadata": {},
   "source": [
    "Ошибки на обучающей выборке составили ~13%, а на тестовой 20%  \n",
    "Попробуем увеличить число соседей до 7"
   ]
  },
  {
   "cell_type": "code",
   "execution_count": 49,
   "id": "bf34674f",
   "metadata": {},
   "outputs": [
    {
     "name": "stdout",
     "output_type": "stream",
     "text": [
      "Accuracy. Train : 85.63%, Test: 81.52%. \n"
     ]
    }
   ],
   "source": [
    "knn_7 = KNeighborsClassifier(n_neighbors = 7)\n",
    "knn_7.fit(X_train, y_train)\n",
    "knn_train_pred = 100 * knn_7.score(X_train, y_train)\n",
    "knn_test_pred = 100 * knn_7.score(X_test, y_test)\n",
    "print(\"Accuracy. Train : {:.2f}%, Test: {:.2f}%. \".format(knn_train_pred, knn_test_pred))"
   ]
  },
  {
   "cell_type": "markdown",
   "id": "0d612aaa",
   "metadata": {},
   "source": [
    "Точность на обучающей выборке сократилась, зато на тестовой выборке повысилась"
   ]
  },
  {
   "cell_type": "code",
   "execution_count": 50,
   "id": "506b7155",
   "metadata": {},
   "outputs": [
    {
     "name": "stdout",
     "output_type": "stream",
     "text": [
      "Accuracy. Train : 88.85%, Test: 79.88%. \n"
     ]
    }
   ],
   "source": [
    "knn_3 = KNeighborsClassifier(n_neighbors = 3)\n",
    "knn_3.fit(X_train, y_train)\n",
    "knn_train_pred = 100 * knn_3.score(X_train, y_train)\n",
    "knn_test_pred = 100 * knn_3.score(X_test, y_test)\n",
    "print(\"Accuracy. Train : {:.2f}%, Test: {:.2f}%. \".format(knn_train_pred, knn_test_pred))"
   ]
  },
  {
   "cell_type": "markdown",
   "id": "7e7530a6",
   "metadata": {},
   "source": [
    "Теперь точность на обучающей выборке возросла, зато на тестовой сократилась."
   ]
  },
  {
   "cell_type": "markdown",
   "id": "ad325351",
   "metadata": {},
   "source": [
    "# Обучение с помощью дерева решений"
   ]
  },
  {
   "cell_type": "code",
   "execution_count": 51,
   "id": "5fce884e",
   "metadata": {},
   "outputs": [
    {
     "name": "stdout",
     "output_type": "stream",
     "text": [
      "Depth: 26\n",
      "Leaves: 1268\n",
      "Accuracy. Train : 99.97%, Test: 79.16%. \n"
     ]
    }
   ],
   "source": [
    "from sklearn.tree import DecisionTreeClassifier\n",
    "desTrCl = DecisionTreeClassifier()\n",
    "desTrCl.fit(X_train,y_train)\n",
    "desTrCl_train_sc = 100 * desTrCl.score(X_train, y_train)\n",
    "print ('Depth:', desTrCl.get_depth())\n",
    "print ('Leaves:', desTrCl.get_n_leaves())\n",
    "desTrCl_test_sc = 100 * desTrCl.score(X_test, y_test)\n",
    "print(\"Accuracy. Train : {:.2f}%, Test: {:.2f}%. \".format(desTrCl_train_sc, desTrCl_test_sc))"
   ]
  },
  {
   "cell_type": "markdown",
   "id": "ca413eef",
   "metadata": {},
   "source": [
    "Точность на обучающей выборке сильно разнится с точностью на тестовой.  \n",
    "Теперь попробуем уменьшить глубину до 6"
   ]
  },
  {
   "cell_type": "code",
   "execution_count": 52,
   "id": "209ead5c",
   "metadata": {},
   "outputs": [
    {
     "name": "stdout",
     "output_type": "stream",
     "text": [
      "Depth: 6\n",
      "Leaves: 58\n",
      "Accuracy. Train : 85.68%, Test: 85.04%. \n"
     ]
    }
   ],
   "source": [
    "desTrCl_6 = DecisionTreeClassifier(max_depth=6)\n",
    "desTrCl_6.fit(X_train,y_train)\n",
    "desTrCl_train_sc = 100 * desTrCl_6.score(X_train, y_train)\n",
    "print ('Depth:', desTrCl_6.get_depth())\n",
    "print ('Leaves:', desTrCl_6.get_n_leaves())\n",
    "desTrCl_test_sc = 100 * desTrCl_6.score(X_test, y_test)\n",
    "print(\"Accuracy. Train : {:.2f}%, Test: {:.2f}%. \".format(desTrCl_train_sc, desTrCl_test_sc))"
   ]
  },
  {
   "cell_type": "markdown",
   "id": "8df8726e",
   "metadata": {},
   "source": [
    "Точность на обучающей выборке понизилась, зато на тестовой выборке повысилась. Теперь точность примерно одинаковая и точность в 85% на тестовой выборке самая высокая среди всех наших экспериментов."
   ]
  },
  {
   "cell_type": "markdown",
   "id": "6a91eea3",
   "metadata": {},
   "source": [
    "# Выводы"
   ]
  },
  {
   "cell_type": "markdown",
   "id": "cdecc985",
   "metadata": {},
   "source": [
    "В работе производился анализ данных клиентов страховой компании и решение задачи классификации с помощью моделей, которые были натренированы методами К-ближайших соседей и дерева решений.  \n",
    "В ходе работы проведены:  \n",
    "1. Загрузка и чтение данных\n",
    "2. Вычисление основных статистических характеристик и их анализ\n",
    "3. Обработка пропущенных значений (их заполнение)  \n",
    "4. Нормализация категориальных признаков (с помощью бинаризации и функции get_dummies())  \n",
    "5. Нормализация количественных признаков (с помощью линейного преобразования к отрезку [0,1])  \n",
    "6. Разбиение данных на обучающую и тестовую выборки  \n",
    "7. Выбор алгоритма классификации и проверка качества модели: алгоритм дерева решений на тестовой выборке оказался немного лучше метода к-ближайших соседей."
   ]
  }
 ],
 "metadata": {
  "kernelspec": {
   "display_name": "Python 3",
   "language": "python",
   "name": "python3"
  },
  "language_info": {
   "codemirror_mode": {
    "name": "ipython",
    "version": 3
   },
   "file_extension": ".py",
   "mimetype": "text/x-python",
   "name": "python",
   "nbconvert_exporter": "python",
   "pygments_lexer": "ipython3",
   "version": "3.8.8"
  }
 },
 "nbformat": 4,
 "nbformat_minor": 5
}
