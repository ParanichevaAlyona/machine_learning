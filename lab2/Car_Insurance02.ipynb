{
 "cells": [
  {
   "cell_type": "markdown",
   "id": "8ff1c40d",
   "metadata": {},
   "source": [
    "# Задание\n",
    "1. Обучить на ваших данных полносвязную (неглубокую) нейронную сеть\n",
    "2. Попробуйте 1-2 скрытых слоя. \n",
    "3. Постройте графики зависимости ошибки на обучающей выборке и тестовой выборках от параметра alpha и от количества нейронов. \n",
    "4. Наблюдается ли переобучение/недообучение?"
   ]
  },
  {
   "cell_type": "code",
   "execution_count": 1,
   "id": "e21d60fc",
   "metadata": {},
   "outputs": [],
   "source": [
    "import numpy as np          \n",
    "import matplotlib.pyplot as plt\n",
    "%matplotlib inline \n",
    "import pandas as pd       \n",
    "import seaborn as sns       \n",
    "import sklearn   \n",
    "from tqdm import tqdm\n",
    "from sklearn.neural_network import MLPClassifier\n",
    "from sklearn.model_selection import train_test_split\n",
    "from sklearn.metrics import accuracy_score"
   ]
  },
  {
   "cell_type": "markdown",
   "id": "394a4ca9",
   "metadata": {},
   "source": [
    "# Загрузка и чтение данных"
   ]
  },
  {
   "cell_type": "code",
   "execution_count": 2,
   "id": "463b680d",
   "metadata": {},
   "outputs": [
    {
     "data": {
      "text/plain": [
       "(10000, 19)"
      ]
     },
     "execution_count": 2,
     "metadata": {},
     "output_type": "execute_result"
    }
   ],
   "source": [
    "url = \"https://raw.githubusercontent.com/ParanichevaAlyona/machine_learning/main/datasets/Car_Insurance_Claim.csv\"\n",
    "data_raw = pd.read_csv(url)\n",
    "data_raw.shape"
   ]
  },
  {
   "cell_type": "markdown",
   "id": "3eced419",
   "metadata": {},
   "source": [
    "Таблица содержит личную информацию о 10000 клиентах, разделенную на 19 категорий"
   ]
  },
  {
   "cell_type": "markdown",
   "id": "b134ee96",
   "metadata": {},
   "source": [
    "### Заменим тип Object категориальных признаков на специальный тип, который предназначен для хранения как раз таких категориальных значений:"
   ]
  },
  {
   "cell_type": "code",
   "execution_count": 3,
   "id": "08d09567",
   "metadata": {},
   "outputs": [],
   "source": [
    "# сделаем копию данных, для случая, если нам понадобится исходник\n",
    "data = data_raw.copy()\n",
    "# теперь творим все наши изменения\n",
    "data_raw['AGE'] = data_raw['AGE'].astype('category')\n",
    "data_raw['GENDER'] = data_raw['GENDER'].astype('category')\n",
    "data_raw['RACE'] = data_raw['RACE'].astype('category')\n",
    "data_raw['DRIVING_EXPERIENCE'] = data_raw['DRIVING_EXPERIENCE'].astype('category')\n",
    "data_raw['EDUCATION'] = data_raw['EDUCATION'].astype('category')\n",
    "data_raw['INCOME'] = data_raw['INCOME'].astype('category')\n",
    "data_raw['VEHICLE_YEAR'] = data_raw['VEHICLE_YEAR'].astype('category')\n",
    "data_raw['VEHICLE_TYPE'] = data_raw['VEHICLE_TYPE'].astype('category')"
   ]
  },
  {
   "cell_type": "markdown",
   "id": "fd17faa4",
   "metadata": {},
   "source": [
    "### Обработаем пустоты"
   ]
  },
  {
   "cell_type": "code",
   "execution_count": 4,
   "id": "843ce85b",
   "metadata": {},
   "outputs": [],
   "source": [
    "data_raw.fillna(data_raw.median(axis = 0), axis=0 , inplace=True)"
   ]
  },
  {
   "cell_type": "markdown",
   "id": "fbf22438",
   "metadata": {},
   "source": [
    "### Проведем нормализацию категориальных и числовых признаков\n",
    "Бинаризация категориальных признаков"
   ]
  },
  {
   "cell_type": "code",
   "execution_count": 5,
   "id": "2ae2bbad",
   "metadata": {},
   "outputs": [],
   "source": [
    "data_raw['GENDER'] = pd.factorize(data_raw['GENDER'])[0]\n",
    "data_raw['RACE'] = pd.factorize(data_raw['RACE'])[0]\n",
    "data_raw['VEHICLE_YEAR'] = pd.factorize(data_raw['VEHICLE_YEAR'])[0]\n",
    "data_raw['VEHICLE_TYPE'] = pd.factorize(data_raw['VEHICLE_TYPE'])[0]"
   ]
  },
  {
   "cell_type": "code",
   "execution_count": 6,
   "id": "a4228006",
   "metadata": {},
   "outputs": [
    {
     "name": "stdout",
     "output_type": "stream",
     "text": [
      "(10000, 30)\n"
     ]
    }
   ],
   "source": [
    "data_raw = pd.get_dummies(data_raw)\n",
    "print(data_raw.shape)"
   ]
  },
  {
   "cell_type": "markdown",
   "id": "5719e796",
   "metadata": {},
   "source": [
    "Теперь нормализуем количественные признаки, приведя значения к отрезку [0,1]"
   ]
  },
  {
   "cell_type": "code",
   "execution_count": 7,
   "id": "10b9abbf",
   "metadata": {},
   "outputs": [],
   "source": [
    "data_normal = (data_raw - data_raw.min(axis=0)) / (data_raw.max(axis=0) - data_raw.min(axis=0))"
   ]
  },
  {
   "cell_type": "code",
   "execution_count": 8,
   "id": "dfd19dbb",
   "metadata": {},
   "outputs": [
    {
     "name": "stdout",
     "output_type": "stream",
     "text": [
      "<class 'pandas.core.frame.DataFrame'>\n",
      "RangeIndex: 10000 entries, 0 to 9999\n",
      "Data columns (total 30 columns):\n",
      " #   Column                     Non-Null Count  Dtype  \n",
      "---  ------                     --------------  -----  \n",
      " 0   ID                         10000 non-null  float64\n",
      " 1   GENDER                     10000 non-null  float64\n",
      " 2   RACE                       10000 non-null  float64\n",
      " 3   CREDIT_SCORE               10000 non-null  float64\n",
      " 4   VEHICLE_OWNERSHIP          10000 non-null  float64\n",
      " 5   VEHICLE_YEAR               10000 non-null  float64\n",
      " 6   MARRIED                    10000 non-null  float64\n",
      " 7   CHILDREN                   10000 non-null  float64\n",
      " 8   POSTAL_CODE                10000 non-null  float64\n",
      " 9   ANNUAL_MILEAGE             10000 non-null  float64\n",
      " 10  VEHICLE_TYPE               10000 non-null  float64\n",
      " 11  SPEEDING_VIOLATIONS        10000 non-null  float64\n",
      " 12  DUIS                       10000 non-null  float64\n",
      " 13  PAST_ACCIDENTS             10000 non-null  float64\n",
      " 14  OUTCOME                    10000 non-null  float64\n",
      " 15  AGE_16-25                  10000 non-null  float64\n",
      " 16  AGE_26-39                  10000 non-null  float64\n",
      " 17  AGE_40-64                  10000 non-null  float64\n",
      " 18  AGE_65+                    10000 non-null  float64\n",
      " 19  DRIVING_EXPERIENCE_0-9y    10000 non-null  float64\n",
      " 20  DRIVING_EXPERIENCE_10-19y  10000 non-null  float64\n",
      " 21  DRIVING_EXPERIENCE_20-29y  10000 non-null  float64\n",
      " 22  DRIVING_EXPERIENCE_30y+    10000 non-null  float64\n",
      " 23  EDUCATION_high school      10000 non-null  float64\n",
      " 24  EDUCATION_none             10000 non-null  float64\n",
      " 25  EDUCATION_university       10000 non-null  float64\n",
      " 26  INCOME_middle class        10000 non-null  float64\n",
      " 27  INCOME_poverty             10000 non-null  float64\n",
      " 28  INCOME_upper class         10000 non-null  float64\n",
      " 29  INCOME_working class       10000 non-null  float64\n",
      "dtypes: float64(30)\n",
      "memory usage: 2.3 MB\n"
     ]
    }
   ],
   "source": [
    "data_normal.info()"
   ]
  },
  {
   "cell_type": "code",
   "execution_count": 9,
   "id": "8fa8d9d4",
   "metadata": {},
   "outputs": [
    {
     "data": {
      "text/html": [
       "<div>\n",
       "<style scoped>\n",
       "    .dataframe tbody tr th:only-of-type {\n",
       "        vertical-align: middle;\n",
       "    }\n",
       "\n",
       "    .dataframe tbody tr th {\n",
       "        vertical-align: top;\n",
       "    }\n",
       "\n",
       "    .dataframe thead th {\n",
       "        text-align: right;\n",
       "    }\n",
       "</style>\n",
       "<table border=\"1\" class=\"dataframe\">\n",
       "  <thead>\n",
       "    <tr style=\"text-align: right;\">\n",
       "      <th></th>\n",
       "      <th>ID</th>\n",
       "      <th>GENDER</th>\n",
       "      <th>RACE</th>\n",
       "      <th>CREDIT_SCORE</th>\n",
       "      <th>VEHICLE_OWNERSHIP</th>\n",
       "      <th>VEHICLE_YEAR</th>\n",
       "      <th>MARRIED</th>\n",
       "      <th>CHILDREN</th>\n",
       "      <th>POSTAL_CODE</th>\n",
       "      <th>ANNUAL_MILEAGE</th>\n",
       "      <th>...</th>\n",
       "      <th>DRIVING_EXPERIENCE_10-19y</th>\n",
       "      <th>DRIVING_EXPERIENCE_20-29y</th>\n",
       "      <th>DRIVING_EXPERIENCE_30y+</th>\n",
       "      <th>EDUCATION_high school</th>\n",
       "      <th>EDUCATION_none</th>\n",
       "      <th>EDUCATION_university</th>\n",
       "      <th>INCOME_middle class</th>\n",
       "      <th>INCOME_poverty</th>\n",
       "      <th>INCOME_upper class</th>\n",
       "      <th>INCOME_working class</th>\n",
       "    </tr>\n",
       "  </thead>\n",
       "  <tbody>\n",
       "    <tr>\n",
       "      <th>0</th>\n",
       "      <td>0.569490</td>\n",
       "      <td>0.0</td>\n",
       "      <td>0.0</td>\n",
       "      <td>0.634374</td>\n",
       "      <td>1.0</td>\n",
       "      <td>0.0</td>\n",
       "      <td>0.0</td>\n",
       "      <td>1.0</td>\n",
       "      <td>0.000000</td>\n",
       "      <td>0.50</td>\n",
       "      <td>...</td>\n",
       "      <td>0.0</td>\n",
       "      <td>0.0</td>\n",
       "      <td>0.0</td>\n",
       "      <td>1.0</td>\n",
       "      <td>0.0</td>\n",
       "      <td>0.0</td>\n",
       "      <td>0.0</td>\n",
       "      <td>0.0</td>\n",
       "      <td>1.0</td>\n",
       "      <td>0.0</td>\n",
       "    </tr>\n",
       "    <tr>\n",
       "      <th>1</th>\n",
       "      <td>0.750358</td>\n",
       "      <td>1.0</td>\n",
       "      <td>0.0</td>\n",
       "      <td>0.335441</td>\n",
       "      <td>0.0</td>\n",
       "      <td>1.0</td>\n",
       "      <td>0.0</td>\n",
       "      <td>0.0</td>\n",
       "      <td>0.000000</td>\n",
       "      <td>0.70</td>\n",
       "      <td>...</td>\n",
       "      <td>0.0</td>\n",
       "      <td>0.0</td>\n",
       "      <td>0.0</td>\n",
       "      <td>0.0</td>\n",
       "      <td>1.0</td>\n",
       "      <td>0.0</td>\n",
       "      <td>0.0</td>\n",
       "      <td>1.0</td>\n",
       "      <td>0.0</td>\n",
       "      <td>0.0</td>\n",
       "    </tr>\n",
       "    <tr>\n",
       "      <th>2</th>\n",
       "      <td>0.199825</td>\n",
       "      <td>0.0</td>\n",
       "      <td>0.0</td>\n",
       "      <td>0.484636</td>\n",
       "      <td>1.0</td>\n",
       "      <td>1.0</td>\n",
       "      <td>0.0</td>\n",
       "      <td>0.0</td>\n",
       "      <td>0.000000</td>\n",
       "      <td>0.45</td>\n",
       "      <td>...</td>\n",
       "      <td>0.0</td>\n",
       "      <td>0.0</td>\n",
       "      <td>0.0</td>\n",
       "      <td>1.0</td>\n",
       "      <td>0.0</td>\n",
       "      <td>0.0</td>\n",
       "      <td>0.0</td>\n",
       "      <td>0.0</td>\n",
       "      <td>0.0</td>\n",
       "      <td>1.0</td>\n",
       "    </tr>\n",
       "    <tr>\n",
       "      <th>3</th>\n",
       "      <td>0.478825</td>\n",
       "      <td>1.0</td>\n",
       "      <td>0.0</td>\n",
       "      <td>0.168222</td>\n",
       "      <td>1.0</td>\n",
       "      <td>1.0</td>\n",
       "      <td>0.0</td>\n",
       "      <td>1.0</td>\n",
       "      <td>0.275179</td>\n",
       "      <td>0.45</td>\n",
       "      <td>...</td>\n",
       "      <td>0.0</td>\n",
       "      <td>0.0</td>\n",
       "      <td>0.0</td>\n",
       "      <td>0.0</td>\n",
       "      <td>0.0</td>\n",
       "      <td>1.0</td>\n",
       "      <td>0.0</td>\n",
       "      <td>0.0</td>\n",
       "      <td>0.0</td>\n",
       "      <td>1.0</td>\n",
       "    </tr>\n",
       "    <tr>\n",
       "      <th>4</th>\n",
       "      <td>0.731654</td>\n",
       "      <td>1.0</td>\n",
       "      <td>0.0</td>\n",
       "      <td>0.369171</td>\n",
       "      <td>1.0</td>\n",
       "      <td>1.0</td>\n",
       "      <td>0.0</td>\n",
       "      <td>0.0</td>\n",
       "      <td>0.275179</td>\n",
       "      <td>0.50</td>\n",
       "      <td>...</td>\n",
       "      <td>1.0</td>\n",
       "      <td>0.0</td>\n",
       "      <td>0.0</td>\n",
       "      <td>0.0</td>\n",
       "      <td>1.0</td>\n",
       "      <td>0.0</td>\n",
       "      <td>0.0</td>\n",
       "      <td>0.0</td>\n",
       "      <td>0.0</td>\n",
       "      <td>1.0</td>\n",
       "    </tr>\n",
       "  </tbody>\n",
       "</table>\n",
       "<p>5 rows × 30 columns</p>\n",
       "</div>"
      ],
      "text/plain": [
       "         ID  GENDER  RACE  CREDIT_SCORE  VEHICLE_OWNERSHIP  VEHICLE_YEAR  \\\n",
       "0  0.569490     0.0   0.0      0.634374                1.0           0.0   \n",
       "1  0.750358     1.0   0.0      0.335441                0.0           1.0   \n",
       "2  0.199825     0.0   0.0      0.484636                1.0           1.0   \n",
       "3  0.478825     1.0   0.0      0.168222                1.0           1.0   \n",
       "4  0.731654     1.0   0.0      0.369171                1.0           1.0   \n",
       "\n",
       "   MARRIED  CHILDREN  POSTAL_CODE  ANNUAL_MILEAGE  ...  \\\n",
       "0      0.0       1.0     0.000000            0.50  ...   \n",
       "1      0.0       0.0     0.000000            0.70  ...   \n",
       "2      0.0       0.0     0.000000            0.45  ...   \n",
       "3      0.0       1.0     0.275179            0.45  ...   \n",
       "4      0.0       0.0     0.275179            0.50  ...   \n",
       "\n",
       "   DRIVING_EXPERIENCE_10-19y  DRIVING_EXPERIENCE_20-29y  \\\n",
       "0                        0.0                        0.0   \n",
       "1                        0.0                        0.0   \n",
       "2                        0.0                        0.0   \n",
       "3                        0.0                        0.0   \n",
       "4                        1.0                        0.0   \n",
       "\n",
       "   DRIVING_EXPERIENCE_30y+  EDUCATION_high school  EDUCATION_none  \\\n",
       "0                      0.0                    1.0             0.0   \n",
       "1                      0.0                    0.0             1.0   \n",
       "2                      0.0                    1.0             0.0   \n",
       "3                      0.0                    0.0             0.0   \n",
       "4                      0.0                    0.0             1.0   \n",
       "\n",
       "   EDUCATION_university  INCOME_middle class  INCOME_poverty  \\\n",
       "0                   0.0                  0.0             0.0   \n",
       "1                   0.0                  0.0             1.0   \n",
       "2                   0.0                  0.0             0.0   \n",
       "3                   1.0                  0.0             0.0   \n",
       "4                   0.0                  0.0             0.0   \n",
       "\n",
       "   INCOME_upper class  INCOME_working class  \n",
       "0                 1.0                   0.0  \n",
       "1                 0.0                   0.0  \n",
       "2                 0.0                   1.0  \n",
       "3                 0.0                   1.0  \n",
       "4                 0.0                   1.0  \n",
       "\n",
       "[5 rows x 30 columns]"
      ]
     },
     "execution_count": 9,
     "metadata": {},
     "output_type": "execute_result"
    }
   ],
   "source": [
    "data_normal.head()"
   ]
  },
  {
   "cell_type": "markdown",
   "id": "21be61e8",
   "metadata": {},
   "source": [
    "# Выбор обучающей и тестовой выборки"
   ]
  },
  {
   "cell_type": "code",
   "execution_count": 10,
   "id": "22fedfd8",
   "metadata": {},
   "outputs": [],
   "source": [
    "X = data_normal.drop (['ID', 'OUTCOME'], axis=1) \n",
    "y = data_raw['OUTCOME']"
   ]
  },
  {
   "cell_type": "code",
   "execution_count": 11,
   "id": "b7d24f20",
   "metadata": {},
   "outputs": [
    {
     "data": {
      "text/plain": [
       "(7500, 2500)"
      ]
     },
     "execution_count": 11,
     "metadata": {},
     "output_type": "execute_result"
    }
   ],
   "source": [
    "from sklearn.model_selection import train_test_split\n",
    "X_train, X_test, y_train, y_test = train_test_split(X, y, test_size = 0.25, random_state = 42)\n",
    "\n",
    "N_train, _ = X_train.shape \n",
    "N_test,  _ = X_test.shape \n",
    "\n",
    "N_train, N_test"
   ]
  },
  {
   "cell_type": "code",
   "execution_count": 12,
   "id": "e6d3b3c4",
   "metadata": {},
   "outputs": [],
   "source": [
    "mean = X_train.mean(axis = 0)\n",
    "std = X_train.std(axis = 0)\n",
    "\n",
    "X_train = (X_train - mean) / std\n",
    "X_test =  (X_test  - mean) / std\n",
    "\n",
    "X_train = X_train.to_numpy()\n",
    "X_test = X_test.to_numpy()"
   ]
  },
  {
   "cell_type": "markdown",
   "id": "18d8b9d4",
   "metadata": {},
   "source": [
    "# Подбор гиперпараметров\n",
    "## Подбор числа нейронов в однослойном классификаторе\n",
    "В качестве алгоритма оптимизации выберем алгоритм Adam, в качестве функции активации выберем Relu, в качетве метрики оценки классификатора возьмем accuracy_score."
   ]
  },
  {
   "cell_type": "code",
   "execution_count": 13,
   "id": "7d1aba25",
   "metadata": {},
   "outputs": [],
   "source": [
    "n_array = np.linspace(1, 50, 50)\n",
    "n_array = n_array.astype(int)\n",
    "test_err = []\n",
    "train_err = []\n",
    "test_acc = []\n",
    "train_acc = []\n",
    "\n",
    "for n in n_array:\n",
    "    mlp_model = MLPClassifier(hidden_layer_sizes = (n,),\n",
    "                          solver = 'adam', \n",
    "                          max_iter=10000,\n",
    "                          activation = 'relu',\n",
    "                          random_state = 42)\n",
    "    mlp_model.fit(X_train, y_train)\n",
    "    y_train_pred = mlp_model.predict(X_train) \n",
    "    y_test_pred = mlp_model.predict(X_test)\n",
    "    train_err.append(np.mean(y_train != y_train_pred))\n",
    "    test_err.append(np.mean(y_test != y_test_pred))\n",
    "    train_acc.append(accuracy_score(y_train, y_train_pred))\n",
    "    test_acc.append(accuracy_score(y_test, y_test_pred))"
   ]
  },
  {
   "cell_type": "code",
   "execution_count": 14,
   "id": "ad52a88a",
   "metadata": {},
   "outputs": [
    {
     "name": "stdout",
     "output_type": "stream",
     "text": [
      "Минимальное значение ошибки на обучающей выборке достигнуто при количестве нейронов: 50\n",
      "0.09506666666666666\n",
      "Минимальное значение ошибки на тестовой выборке достигнуто при количестве нейронов: 4\n",
      "0.1556\n"
     ]
    }
   ],
   "source": [
    "print(\"Минимальное значение ошибки на обучающей выборке достигнуто при количестве нейронов: \" + str(n_array[np.argmin(train_err)]))\n",
    "print(np.min(train_err))\n",
    "\n",
    "print(\"Минимальное значение ошибки на тестовой выборке достигнуто при количестве нейронов: \" + str(n_array[np.argmin(test_err)]))\n",
    "print(np.min(test_err))"
   ]
  },
  {
   "cell_type": "code",
   "execution_count": 15,
   "id": "118b41c7",
   "metadata": {},
   "outputs": [
    {
     "data": {
      "text/plain": [
       "<matplotlib.legend.Legend at 0x1967107f040>"
      ]
     },
     "execution_count": 15,
     "metadata": {},
     "output_type": "execute_result"
    },
    {
     "data": {
      "image/png": "[encoded data removed]",
      "text/plain": [
       "<Figure size 432x288 with 1 Axes>"
      ]
     },
     "metadata": {
      "needs_background": "light"
     },
     "output_type": "display_data"
    }
   ],
   "source": [
    "plt.semilogx(n_array, train_err, 'b-o', label = 'train')\n",
    "plt.semilogx(n_array, test_err, 'r-o', label = 'test')\n",
    "plt.xlim([np.min(n_array), np.max(n_array)])\n",
    "plt.title('Error vs. amount of neurons')\n",
    "plt.xlabel('neurons amount')\n",
    "plt.ylabel('error')\n",
    "plt.legend()"
   ]
  },
  {
   "cell_type": "code",
   "execution_count": 16,
   "id": "4de83b95",
   "metadata": {},
   "outputs": [
    {
     "data": {
      "text/plain": [
       "<matplotlib.legend.Legend at 0x196712318b0>"
      ]
     },
     "execution_count": 16,
     "metadata": {},
     "output_type": "execute_result"
    },
    {
     "data": {
      "image/png": "[encoded data removed]",
      "text/plain": [
       "<Figure size 432x288 with 1 Axes>"
      ]
     },
     "metadata": {
      "needs_background": "light"
     },
     "output_type": "display_data"
    }
   ],
   "source": [
    "plt.semilogx(n_array, train_acc, 'b-o', label = 'train')\n",
    "plt.semilogx(n_array, test_acc, 'r-o', label = 'test')\n",
    "plt.xlim([np.min(n_array), np.max(n_array)])\n",
    "plt.title('Accuracy vs. amount of neurons')\n",
    "plt.xlabel('neurons amount')\n",
    "plt.ylabel('accuracy')\n",
    "plt.legend()"
   ]
  },
  {
   "cell_type": "markdown",
   "id": "6bf56f7a",
   "metadata": {},
   "source": [
    "### Подбор параметра регуляризации alpha"
   ]
  },
  {
   "cell_type": "code",
   "execution_count": 17,
   "id": "38d52dcd",
   "metadata": {},
   "outputs": [
    {
     "name": "stdout",
     "output_type": "stream",
     "text": [
      "Минимальное значение ошибки на обучающей и тестовой выборках:\n",
      "0.1472 0.1532\n",
      "Оптимальное значение параметра:3.1622776601683795\n"
     ]
    }
   ],
   "source": [
    "alpha_arr = np.logspace(-3, 2, 21)\n",
    "test_err = []\n",
    "train_err = []\n",
    "test_acc = []\n",
    "train_acc = []\n",
    "\n",
    "for alpha in alpha_arr :\n",
    "    mlp_model = MLPClassifier(alpha = alpha, hidden_layer_sizes = (5,), \n",
    "                              solver = 'adam', activation = 'relu', max_iter=100000, random_state = 42)\n",
    "    mlp_model.fit(X_train, y_train)\n",
    "\n",
    "    y_train_pred = mlp_model.predict(X_train)\n",
    "    y_test_pred = mlp_model.predict(X_test)\n",
    "    train_err.append(np.mean(y_train != y_train_pred))\n",
    "    test_err.append(np.mean(y_test != y_test_pred))\n",
    "    train_acc.append(accuracy_score(y_train, y_train_pred))\n",
    "    test_acc.append(accuracy_score(y_test, y_test_pred))\n",
    "    \n",
    "min_train_err = np.min(train_err)\n",
    "min_test_err = np.min(test_err)\n",
    "print(\"Минимальное значение ошибки на обучающей и тестовой выборках:\")\n",
    "print(min_train_err, min_test_err)\n",
    "    \n",
    "alpha_opt = alpha_arr[test_err == min_test_err]\n",
    "print(\"Оптимальное значение параметра:\" + str(alpha_opt[0]))"
   ]
  },
  {
   "cell_type": "code",
   "execution_count": 18,
   "id": "b2fdeeda",
   "metadata": {},
   "outputs": [
    {
     "data": {
      "text/plain": [
       "<matplotlib.legend.Legend at 0x19671294220>"
      ]
     },
     "execution_count": 18,
     "metadata": {},
     "output_type": "execute_result"
    },
    {
     "data": {
      "image/png": "[encoded data removed]",
      "text/plain": [
       "<Figure size 432x288 with 1 Axes>"
      ]
     },
     "metadata": {
      "needs_background": "light"
     },
     "output_type": "display_data"
    }
   ],
   "source": [
    "plt.semilogx(alpha_arr, train_err, 'b-o', label = 'train')\n",
    "plt.semilogx(alpha_arr, test_err, 'r-o', label = 'test')\n",
    "plt.xlim([np.min(alpha_arr), np.max(alpha_arr)])\n",
    "plt.title('Error vs. alpha')\n",
    "plt.xlabel('alpha')\n",
    "plt.ylabel('error')\n",
    "plt.legend()"
   ]
  },
  {
   "cell_type": "code",
   "execution_count": 19,
   "id": "a7204824",
   "metadata": {},
   "outputs": [
    {
     "data": {
      "text/plain": [
       "<matplotlib.legend.Legend at 0x196713731c0>"
      ]
     },
     "execution_count": 19,
     "metadata": {},
     "output_type": "execute_result"
    },
    {
     "data": {
      "image/png": "[encoded data removed]",
      "text/plain": [
       "<Figure size 432x288 with 1 Axes>"
      ]
     },
     "metadata": {
      "needs_background": "light"
     },
     "output_type": "display_data"
    }
   ],
   "source": [
    "plt.semilogx(alpha_arr, train_acc, 'r-o', label = 'train')\n",
    "plt.semilogx(alpha_arr, test_acc, 'b-o', label = 'test')\n",
    "plt.xlim([np.min(alpha_arr), np.max(alpha_arr)])\n",
    "plt.title('Accuracy vs. alpha, neurons = ' + str(n))\n",
    "plt.xlabel('alpha')\n",
    "plt.ylabel('Accuracy')\n",
    "plt.legend()"
   ]
  },
  {
   "cell_type": "markdown",
   "id": "f6a1b20b",
   "metadata": {},
   "source": [
    "### Обучение при оптимальном значении alpha"
   ]
  },
  {
   "cell_type": "code",
   "execution_count": 20,
   "id": "1053243b",
   "metadata": {},
   "outputs": [
    {
     "name": "stdout",
     "output_type": "stream",
     "text": [
      "Ошибка на обучающей выборке: 0.15306666666666666\n",
      "Ошибка на тестовой выборке: 0.1532\n"
     ]
    }
   ],
   "source": [
    "alpha_optimal = alpha_opt[0]\n",
    "mlp_model = MLPClassifier(alpha = alpha_optimal, hidden_layer_sizes = (5,),\n",
    "                          solver = 'adam', activation = 'relu', max_iter=100000, random_state = 42)\n",
    "mlp_model.fit(X_train, y_train)\n",
    "\n",
    "y_train_pred = mlp_model.predict(X_train)\n",
    "y_test_pred = mlp_model.predict(X_test)\n",
    "print(\"Ошибка на обучающей выборке: \" + str(np.mean(y_train != y_train_pred)))\n",
    "print(\"Ошибка на тестовой выборке: \" + str(np.mean(y_test != y_test_pred)))"
   ]
  },
  {
   "cell_type": "code",
   "execution_count": 24,
   "id": "601e247b",
   "metadata": {},
   "outputs": [
    {
     "name": "stdout",
     "output_type": "stream",
     "text": [
      "[[1559  219]\n",
      " [ 164  558]]\n"
     ]
    }
   ],
   "source": [
    "from sklearn.metrics import confusion_matrix\n",
    "print(confusion_matrix(y_test_pred, y_test))"
   ]
  },
  {
   "cell_type": "markdown",
   "id": "0829f86f",
   "metadata": {},
   "source": [
    "# Выводы\n",
    "### Подбор числа нейронов в однослойном классификаторе\n",
    "1. Лучший результат вышел при количестве нейронов равном 4\n",
    "2. Показатели ошибок всё ещё достаточно большие (что связано со сложностью исследуемой модели), но при найденных оптимальных значениях параметров они лучше (accuracy 85%), чем показатели ошибок в методе ближайших соседей (accuracy 81%).\n",
    "3. Нет недообучения и переобучения\n",
    "\n",
    "### Подбор параметра регуляризации\n",
    "C ростом коэффициента регуляризации растет ошибка и падает accuracy, что говорит о том, что после обучения у модели не возникает больших значений весовых коэффициентов, а значит нет переобучения у модели."
   ]
  },
  {
   "cell_type": "code",
   "execution_count": null,
   "id": "e7ee87fd",
   "metadata": {},
   "outputs": [],
   "source": []
  }
 ],
 "metadata": {
  "kernelspec": {
   "display_name": "Python 3",
   "language": "python",
   "name": "python3"
  },
  "language_info": {
   "codemirror_mode": {
    "name": "ipython",
    "version": 3
   },
   "file_extension": ".py",
   "mimetype": "text/x-python",
   "name": "python",
   "nbconvert_exporter": "python",
   "pygments_lexer": "ipython3",
   "version": "3.8.8"
  }
 },
 "nbformat": 4,
 "nbformat_minor": 5
}
